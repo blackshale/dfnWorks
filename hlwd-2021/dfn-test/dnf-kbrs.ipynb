{
 "cells": [
  {
   "cell_type": "markdown",
   "metadata": {},
   "source": [
    "# dfnWorks for reproducing KBRS joint networks"
   ]
  },
  {
   "cell_type": "markdown",
   "metadata": {},
   "source": [
    "## how to run in a linux shell? "
   ]
  },
  {
   "cell_type": "code",
   "execution_count": 3,
   "metadata": {},
   "outputs": [],
   "source": [
    "#python3 run_cont.py -name /home/bjung/github/dfnWorks/examples/octree/octree_example -input octree_run_file.txt -ncpu 8"
   ]
  },
  {
   "cell_type": "markdown",
   "metadata": {},
   "source": [
    "## looking into run_cont.py file"
   ]
  },
  {
   "cell_type": "code",
   "execution_count": 4,
   "metadata": {},
   "outputs": [],
   "source": [
    "\n",
    "# import os, sys\n",
    "# from time import time\n",
    "# from pydfnworks import * \n",
    "# import subprocess\n",
    "\n",
    "# define_paths()\n",
    "# main_time = time()\n",
    "# DFN = create_dfn()\n",
    "\n",
    "# DFN.make_working_directory()\n",
    "# DFN.check_input()\n",
    "# DFN.create_network()\n",
    "# DFN.mesh_network()\n",
    "\n",
    "# DFN.set_flow_solver(\"PFLOTRAN\")\n",
    "# DFN.inp_file = \"octree_dfn.inp\"\n",
    "\n",
    "# DFN.map_to_continuum(l=0.1,orl=3)\n",
    "# DFN.upscale(mat_perm=1e-15,mat_por=0.01)\n",
    "\n",
    "# restart_file = \"/home/bjung/github/dfnWorks/examples/octree_example/dfn_restart.in\"\n",
    "# DFN.zone2ex(uge_file='full_mesh.uge',zone_file='all')\n",
    "# #DFN.pflotran(restart=True,restart_file=restart_file)\n",
    "# DFN.pflotran()\n",
    "\n",
    "# DFN.parse_pflotran_vtk_python(grid_vtk_file='')\n",
    "# DFN.pflotran_cleanup()\n",
    "# #DFN.pflotran_cleanup(index_finish=69,filename=restart_file)\n",
    "\n",
    "# main_elapsed = time() - main_time\n",
    "# timing = 'Time Required: %0.2f Minutes'%(main_elapsed/60.0)\n",
    "# f = open(\"time.txt\",'w')\n",
    "# f.write(\"{0}\\n\".format(main_elapsed))\n",
    "# f.close()\n",
    "# print(\"*\"*80)\n",
    "# print(DFN.jobname+' complete')\n",
    "# print(\"Thank you for using dfnWorks\")\n",
    "# print(\"*\"*80)\n",
    "\n",
    "\n"
   ]
  },
  {
   "cell_type": "markdown",
   "metadata": {},
   "source": [
    "### import modules (must run in conda-dfnworks environment)"
   ]
  },
  {
   "cell_type": "code",
   "execution_count": 57,
   "metadata": {},
   "outputs": [],
   "source": [
    "import os, sys\n",
    "from time import time\n",
    "from pydfnworks import * \n",
    "import subprocess\n",
    "\n"
   ]
  },
  {
   "cell_type": "code",
   "execution_count": 58,
   "metadata": {},
   "outputs": [],
   "source": [
    "define_paths()\n",
    "# ~/.dfnworksrc file\n",
    "# {\n",
    "#         \"dfnworks_PATH\": \"/home/bjung/github/dfnWorks/\",\n",
    "#         \"PETSC_DIR\": \"/home/bjung/github/petsc\",\n",
    "#         \"PETSC_ARCH\": \"arch-linux2-c-opt\",\n",
    "#         \"PFLOTRAN_EXE\": \"/usr/local/bin/pflotran\",\n",
    "#         \"PYTHON_EXE\": \"/usr/bin/python3\",                                                           \n",
    "#         \"LAGRIT_EXE\": \"/usr/local/bin/lagrit\",                                                      \n",
    "#         \"FEHM_EXE\": \"/usr/local/bin/xfehm_v3.3.1\"                                                                                                                                                      \n",
    "# }                                                                                                   \n",
    " "
   ]
  },
  {
   "cell_type": "code",
   "execution_count": 59,
   "metadata": {},
   "outputs": [],
   "source": [
    "main_time = time() # time(): return current time"
   ]
  },
  {
   "cell_type": "code",
   "execution_count": 78,
   "metadata": {},
   "outputs": [],
   "source": [
    "# to put command line option you have to populate sys.argv\n",
    "#sys.argv = ['python3','run_cont.py','-name','/home/bjung/github/dfnWorks/examples/octree/octree_example','-input','octree_run_file.txt','-ncpu', '8']\n",
    "\n",
    "sys.argv = ['name_of_script_argv0','-name', '/home/bjung/github/dfnWorks/hlwd-2021/dfn-test/dfn-test', '-input', 'run_file.txt', '-ncpu', '8']\n",
    "#print(sys.argv[1])\n",
    "#print(str(sys.argv))"
   ]
  },
  {
   "cell_type": "code",
   "execution_count": 79,
   "metadata": {},
   "outputs": [
    {
     "name": "stdout",
     "output_type": "stream",
     "text": [
      "Command Line Inputs:\n",
      "Namespace(cell=False, input_file='run_file.txt', jobname='/home/bjung/github/dfnWorks/hlwd-2021/dfn-test/dfn-test', ncpu=8, path='', prune_file='')\n",
      "\n",
      "-->Creating DFN class\n",
      "\n",
      "\n",
      "===================================================================\n",
      "===================================================================\n",
      "===================================================================\n",
      "||\\    _____         \\               / ______  _______       /  \\ \n",
      "||  \\  |     |\\     | \\             /  |    |  |     | | /  /    \\ \n",
      "||   \\ |___  | \\    |  \\    /\\     /   |    |  |_____| |/   |  |  |\n",
      "||   / |     |   \\  |   \\  /  \\  /     |    |  |   \\   |\\    \\  \\ \n",
      "||  /  |     |     \\|    \\/    \\/      |____|  |    \\  | \\ |  |  |\n",
      "||/ ======================================================= \\    /\n",
      "============================================================  \\/\n",
      "===================================================================\n",
      "\n",
      "\n",
      "\n",
      "~~~~~~~~~~~~~~~~~~~~~~~~~~~~~~~~~~~~~~~~~~~~~~~~~~~~~~~~~~~~~~~~~~~\n",
      "~~~~~~~~~~~~~~~~~~ Program: DFNWorks  V2.2 ~~~~~~~~~~~~~~~~~~~~~~~~\n",
      "~~~~~~~~~~~~~~~~~~~~~~~~~~~~~~~~~~~~~~~~~~~~~~~~~~~~~~~~~~~~~~~~~~~\n",
      "\n",
      "This program was prepared at Los Alamos National Laboratory (LANL),\n",
      "Earth and Environmental Sciences Division, Computational Earth\n",
      "Science Group (EES-16), Subsurface Flow and Transport Team.\n",
      "All rights in the program are reserved by the DOE and LANL.\n",
      "Permission is granted to the public to copy and use this software\n",
      "without charge, provided that this Notice and any statement of\n",
      "authorship are reproduced on all copies. Neither the U.S. Government\n",
      "nor LANS makes any warranty, express or implied, or assumes\n",
      "any liability or responsibility for the use of this software.\n",
      "\n",
      "Contact Information : dfnworks@lanl.gov\n",
      "~~~~~~~~~~~~~~~~~~~~~~~~~~~~~~~~~~~~~~~~~~~~~~~~~~~~~~~~~~~~~~~~~~~\n",
      "~~~~~~~~~~~~~~~~~~~~~~~~~~~~~~~~~~~~~~~~~~~~~~~~~~~~~~~~~~~~~~~~~~~\n",
      "\n",
      "LA-CC-17-027\n",
      "\n",
      "~~~~~~~~~~~~~~~~~~~~~~~~~~~~~~~~~~~~~~~~~~~~~~~~~~~~~~~~~~~~~~~~~~~\n",
      "~~~~~~~~~~~~~~~~~~~~~~~~~~~~~~~~~~~~~~~~~~~~~~~~~~~~~~~~~~~~~~~~~~~\n",
      "\n",
      "(or copyright) 2018 Triad National Security, LLC. All rights reserved.\n",
      " \n",
      "This program was produced under U.S. Government contract 89233218CNA000001\n",
      "for Los Alamos National Laboratory (LANL), which is operated by Triad \n",
      "National Security, LLC for the U.S. Department of Energy/National Nuclear\n",
      "Security Administration.\n",
      "\n",
      "This is free software; you can redistribute it and/or modify it under the\n",
      "terms of the GNU Lesser General Public License as published by the Free\n",
      "Software Foundation; either version 3.0 of the License, or (at your option)\n",
      "any later version. If software is modified to produce derivative works,\n",
      "such modified software should be clearly marked, so as not to confuse it with\n",
      "the version available from LANL.\n",
      "\n",
      "All rights in the program are reserved by Triad National Security, LLC, \n",
      "and the U.S. Department of Energy/National Nuclear Security Administration.\n",
      "The Government is granted for itself and others acting on its behalf a \n",
      "nonexclusive, paid-up, irrevocable worldwide license in this material \n",
      "to reproduce, prepare derivative works, distribute copies to the public,\n",
      "perform publicly and display publicly, and to permit others to do so.\n",
      "\n",
      "The U.S. Government has rights to use, reproduce, and distribute this software.  \n",
      "NEITHER THE GOVERNMENT NOR TRIAD NATIONAL SECURITY, LLC MAKES ANY WARRANTY, \n",
      "EXPRESS OR IMPLIED, OR ASSUMES ANY LIABILITY FOR THE USE OF THIS SOFTWARE.  \n",
      "If software is modified to  produce derivative works, such modified \n",
      "software should be clearly marked, so as not to confuse it with the \n",
      "version available from LANL.\n",
      "\n",
      "Additionally, this program is free software; you can redistribute it and/or \n",
      "modify it under the terms of the GNU General Public License as published by the \n",
      "Free Software Foundation; either version 2 of the License, or (at your option) \n",
      "any later version. Accordingly, this program is distributed in the hope that it \n",
      "will be useful, but WITHOUT ANY WARRANTY; without even the implied warranty of \n",
      "MERCHANTABILITY or FITNESS FOR A PARTICULAR PURPOSE. See the GNU General Public \n",
      "License for more details.\n",
      " \n",
      "Additionally, redistribution and use in source and binary forms, with or \n",
      "without modification, are permitted provided that the following conditions are \n",
      "met:\n",
      "1.       Redistributions of source code must retain the above copyright notice, \n",
      "this list of conditions and the following disclaimer.\n",
      "\n",
      "2.      Redistributions in binary form must reproduce the above copyright \n",
      "notice, this list of conditions and the following disclaimer in the \n",
      "documentation and/or other materials provided with the distribution.\n",
      "\n",
      "3.      Neither the name of Los Alamos National Security, LLC, Los Alamos \n",
      "National Laboratory, LANL, the U.S. Government, nor the names of its \n",
      "contributors may be used to endorse or promote products derived from this \n",
      "software without specific prior written permission.\n",
      " \n",
      "THIS SOFTWARE IS PROVIDED BY LOS ALAMOS NATIONAL SECURITY, LLC AND \n",
      "CONTRIBUTORS \"AS IS\" AND ANY EXPRESS OR IMPLIED WARRANTIES, INCLUDING, BUT NOT \n",
      "LIMITED TO, THE IMPLIED WARRANTIES OF MERCHANTABILITY AND FITNESS FOR A \n",
      "PARTICULAR PURPOSE ARE DISCLAIMED. IN NO EVENT SHALL LOS ALAMOS NATIONAL \n",
      "SECURITY, LLC OR CONTRIBUTORS BE LIABLE FOR ANY DIRECT, INDIRECT, INCIDENTAL, \n",
      "SPECIAL, EXEMPLARY, OR CONSEQUENTIAL DAMAGES (INCLUDING, BUT NOT LIMITED TO, \n",
      "PROCUREMENT OF SUBSTITUTE GOODS OR SERVICES; LOSS OF USE, DATA, OR PROFITS; OR \n",
      "BUSINESS INTERRUPTION) HOWEVER CAUSED AND ON ANY THEORY OF LIABILITY, WHETHER \n",
      "IN CONTRACT, STRICT LIABILITY, OR TORT (INCLUDING NEGLIGENCE OR OTHERWISE) \n",
      "ARISING IN ANY WAY OUT OF THE USE OF THIS SOFTWARE, EVEN IF ADVISED OF THE \n",
      "POSSIBILITY OF SUCH DAMAGE.\n",
      "\n",
      "================================================================================\n",
      "\n",
      "\n",
      "--> Creating DFN class\n",
      "--> Jobname:  /home/bjung/github/dfnWorks/hlwd-2021/dfn-test/dfn-test\n",
      "--> Number of cpus requested:  8\n",
      "--> Reading Input from run_file.txt\n",
      "--> dfnGen input file:  /home/bjung/github/dfnWorks/hlwd-2021/dfn-test/fracture.dat\n",
      "--> dfnFlow input file:  /home/bjung/github/dfnWorks/hlwd-2021/dfn-test/dfn_explicit.in\n",
      "--> dfnTrans input file:  /None/none\n",
      "\n",
      "--> Creating DFN class: Complete\n",
      "================================================================================\n",
      "\n"
     ]
    }
   ],
   "source": [
    "# then call create_dfn()\n",
    "DFN = create_dfn()\n",
    "#options= commandline_options()\n",
    "#print(options)"
   ]
  },
  {
   "cell_type": "code",
   "execution_count": 81,
   "metadata": {},
   "outputs": [
    {
     "name": "stdout",
     "output_type": "stream",
     "text": [
      "\n",
      "Folder  /home/bjung/github/dfnWorks/hlwd-2021/dfn-test/dfn-test  exists\n"
     ]
    },
    {
     "name": "stdin",
     "output_type": "stream",
     "text": [
      "Do you want to delete it? [yes/no] \n",
      " yes\n"
     ]
    },
    {
     "name": "stdout",
     "output_type": "stream",
     "text": [
      "Deleting /home/bjung/github/dfnWorks/hlwd-2021/dfn-test/dfn-test\n",
      "Creating /home/bjung/github/dfnWorks/hlwd-2021/dfn-test/dfn-test\n",
      "Current directory is now: /home/bjung/github/dfnWorks/hlwd-2021/dfn-test/dfn-test\n",
      "\n",
      "Jobname is /home/bjung/github/dfnWorks/hlwd-2021/dfn-test/dfn-test\n"
     ]
    }
   ],
   "source": [
    "DFN.make_working_directory()"
   ]
  },
  {
   "cell_type": "code",
   "execution_count": 85,
   "metadata": {},
   "outputs": [
    {
     "name": "stdout",
     "output_type": "stream",
     "text": [
      "/home/bjung/github/dfnWorks/hlwd-2021/dfn-test/fracture.dat\n",
      "/home/bjung/github/dfnWorks/hlwd-2021/dfn-test/dfn-test/fracture_clean.dat\n",
      "--> Checking input data\n",
      "--> Input Data:  /home/bjung/github/dfnWorks/hlwd-2021/dfn-test/fracture.dat\n",
      "--> Output File:  /home/bjung/github/dfnWorks/hlwd-2021/dfn-test/dfn-test/fracture_clean.dat\n",
      "WARNING --- You have set the number of ellipse families to 0, outside user-defined ellipses, no ellipses will be generated.\n",
      "WARNING --- You have set the number of rectangle families to 0, outside user-defined rectangles, no rectangles will be generated.\n",
      "--> Checking Input Data Complete\n"
     ]
    }
   ],
   "source": [
    "#DFN.check_input()\n",
    "DFN.check_input()"
   ]
  },
  {
   "cell_type": "code",
   "execution_count": 89,
   "metadata": {},
   "outputs": [
    {
     "name": "stdout",
     "output_type": "stream",
     "text": [
      "--> Running DFNGEN\n",
      "Running /home/bjung/github/dfnWorks/DFNGen/DFNGen fracture_clean.dat /home/bjung/github/dfnWorks/hlwd-2021/dfn-test/dfn-test\n",
      "--------------------------------------------------------------------------------\n",
      "Generation Succeeded\n",
      "--------------------------------------------------------------------------------\n"
     ]
    }
   ],
   "source": [
    "#DFN.create_network()\n",
    "DFN.create_network()"
   ]
  },
  {
   "cell_type": "code",
   "execution_count": 91,
   "metadata": {},
   "outputs": [
    {
     "name": "stdout",
     "output_type": "stream",
     "text": [
      "================================================================================\n",
      "Meshing DFN using LaGriT : Starting\n",
      "================================================================================\n",
      "\n",
      "--> Parsing  params.txt\n",
      "--> Number of Polygons: 4\n",
      "--> H_SCALE 0.050000\n",
      "--> Visual mode is on\n",
      "--> Expected Number of dudded points: 6\n",
      "--> X Domain Size 1.0 m\n",
      "--> Y Domain Size 1.0 m\n",
      "--> Z Domain Size 1.0 m\n",
      "--> Parsing params.txt complete\n",
      "\n",
      "================================================================================\n",
      "\n",
      "--> Running in Visual Mode\n",
      "\n",
      "================================================================================\n",
      "\n",
      "--> Creating parameter*.mlgi files\n",
      "--> Creating parameter*.mlgi files: Complete\n",
      "\n",
      "--> Writing LaGriT Control Files\n",
      "--> Writing LaGriT Control Files: Complete\n",
      "--> Writing LaGriT Control Files: Complete\n",
      "================================================================================\n",
      "\n",
      "================================================================================\n",
      "\n",
      "--> Triangulating 4 fractures using 4 processors\n",
      "\n",
      "\n",
      "--> Fracture 1 out of 4 is starting on worker 1--> Fracture 2 out of 4 is starting on worker 2--> Fracture 3 out of 4 is starting on worker 3\n",
      "\n",
      "\n",
      "--> Fracture 4 out of 4 is starting on worker 4\n",
      "--> Fracture 2 out of 4 is complete on worker 2. Time required: 0.05 seconds\n",
      "\n",
      "--> Fracture 1 out of 4 is complete on worker 1. Time required: 0.05 seconds\n",
      "\n",
      "--> Fracture 3 out of 4 is complete on worker 3. Time required: 0.06 seconds\n",
      "\n",
      "--> Fracture 4 out of 4 is complete on worker 4. Time required: 0.05 seconds\n",
      "\n",
      "--> Triangulating Polygons: Complete\n",
      "--> Total Time to Mesh Network:\n",
      "--> 1.45e-01 seconds\t2.42e-03 minutes\t4.04e-05 hours\n",
      "================================================================================\n",
      "--> Writing : merge_poly.lgi\n",
      "================================================================================\n",
      "--> Merging triangulated fracture meshes using 2 processors.\n",
      "--> Starting merge: 1--> Starting merge: 2\n",
      "\n",
      "--> Merge Number 1 Complete. Time elapsed: 0.03 seconds.\n",
      "--> Merge Number 2 Complete. Time elapsed: 0.04 seconds.\n",
      "\n",
      "--> Initial merging complete. Time elapsed: 0.12 seconds.\n",
      "\n",
      "================================================================================\n",
      "--> Starting Final Merge\n",
      "--> Final merge took 0.04 seconds\n",
      "--> Final merge successful\n",
      "================================================================================\n",
      "--> Output files for visualization are written in : reduced_mesh.inp\n",
      "--> Warning!!! Mesh is not suitable for flow and transport.\n",
      "================================================================================\n",
      "Meshing DFN using LaGriT : Complete\n",
      "================================================================================\n"
     ]
    }
   ],
   "source": [
    "#DFN.mesh_network()\n",
    "DFN.mesh_network()"
   ]
  },
  {
   "cell_type": "code",
   "execution_count": 94,
   "metadata": {},
   "outputs": [
    {
     "name": "stdout",
     "output_type": "stream",
     "text": [
      "Using flow solver PFLOTRAN\n"
     ]
    }
   ],
   "source": [
    "#DFN.set_flow_solver(\"PFLOTRAN\")\n",
    "#DFN.inp_file = \"octree_dfn.inp\"\n",
    "\n",
    "DFN.set_flow_solver(\"PFLOTRAN\")\n",
    "DFN.inp_file = \"dfn-test.inp\""
   ]
  },
  {
   "cell_type": "code",
   "execution_count": 95,
   "metadata": {},
   "outputs": [
    {
     "data": {
      "text/plain": [
       "\u001b[0;31mSignature:\u001b[0m \u001b[0mDFN\u001b[0m\u001b[0;34m.\u001b[0m\u001b[0mmap_to_continuum\u001b[0m\u001b[0;34m(\u001b[0m\u001b[0ml\u001b[0m\u001b[0;34m,\u001b[0m \u001b[0morl\u001b[0m\u001b[0;34m,\u001b[0m \u001b[0mpath\u001b[0m\u001b[0;34m=\u001b[0m\u001b[0;34m'./'\u001b[0m\u001b[0;34m,\u001b[0m \u001b[0mdir_name\u001b[0m\u001b[0;34m=\u001b[0m\u001b[0;34m'octree'\u001b[0m\u001b[0;34m)\u001b[0m\u001b[0;34m\u001b[0m\u001b[0;34m\u001b[0m\u001b[0m\n",
       "\u001b[0;31mDocstring:\u001b[0m\n",
       "This function generates an octree-refined continuum mesh using the\n",
       "reduced_mesh.inp as input.  To generate the reduced_mesh.inp, one must \n",
       "turn visualization mode on in the DFN input card.\n",
       "\n",
       "Parameters\n",
       "----------\n",
       "    self : object\n",
       "        DFN Class\n",
       "    l : float\n",
       "        Size (m) of level-0 mesh element in the continuum mesh\n",
       "    orl : int\n",
       "        Number of total refinement levels in the octree\n",
       "    path : string\n",
       "        path to primary DFN directory\n",
       "    dir_name : string\n",
       "        name of directory where the octree mesh is created\n",
       "\n",
       "Returns\n",
       "-------\n",
       "    None\n",
       "\n",
       "Notes\n",
       "-----\n",
       "    octree_dfn.inp : Mesh file\n",
       "        Octree-refined continuum mesh \n",
       "    fracX.inp : Mesh files\n",
       "        Octree-refined continuum meshes, which contain intersection areas \n",
       "\u001b[0;31mFile:\u001b[0m      ~/.local/lib/python3.6/site-packages/pydfnworks-2.4.5-py3.6.egg/pydfnworks/dfnGen/meshing/udfm/map2continuum.py\n",
       "\u001b[0;31mType:\u001b[0m      method\n"
      ]
     },
     "metadata": {},
     "output_type": "display_data"
    }
   ],
   "source": [
    "# DFN.map_to_continuum(l=0.1,orl=3)\n",
    "DFN.map_to_continuum?\n",
    "\n",
    "# DFN.upscale(mat_perm=1e-15,mat_por=0.01)"
   ]
  },
  {
   "cell_type": "code",
   "execution_count": null,
   "metadata": {},
   "outputs": [],
   "source": []
  }
 ],
 "metadata": {
  "kernelspec": {
   "display_name": "Python 3",
   "language": "python",
   "name": "python3"
  },
  "language_info": {
   "codemirror_mode": {
    "name": "ipython",
    "version": 3
   },
   "file_extension": ".py",
   "mimetype": "text/x-python",
   "name": "python",
   "nbconvert_exporter": "python",
   "pygments_lexer": "ipython3",
   "version": "3.6.13"
  }
 },
 "nbformat": 4,
 "nbformat_minor": 4
}
