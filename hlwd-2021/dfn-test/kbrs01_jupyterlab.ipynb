{
 "cells": [
  {
   "cell_type": "markdown",
   "metadata": {},
   "source": [
    "# dfnWorks for reproducing KBRS joint networks"
   ]
  },
  {
   "cell_type": "markdown",
   "metadata": {},
   "source": [
    "## how to run in a linux shell? \n",
    "let's scruntize an example file (octree example)"
   ]
  },
  {
   "cell_type": "code",
   "execution_count": 1,
   "metadata": {},
   "outputs": [],
   "source": [
    "#python3 run_cont.py -name /home/bjung/github/dfnWorks/examples/octree/octree_example -input octree_run_file.txt -ncpu 8"
   ]
  },
  {
   "cell_type": "markdown",
   "metadata": {},
   "source": [
    "## looking into run_cont.py file -> example file"
   ]
  },
  {
   "cell_type": "code",
   "execution_count": 2,
   "metadata": {},
   "outputs": [],
   "source": [
    "\n",
    "# import os, sys\n",
    "# from time import time\n",
    "# from pydfnworks import * \n",
    "# import subprocess\n",
    "\n",
    "# define_paths()\n",
    "# main_time = time()\n",
    "# DFN = create_dfn()\n",
    "\n",
    "# DFN.make_working_directory()\n",
    "# DFN.check_input()\n",
    "# DFN.create_network()\n",
    "# DFN.mesh_network()\n",
    "\n",
    "# DFN.set_flow_solver(\"PFLOTRAN\")\n",
    "# DFN.inp_file = \"octree_dfn.inp\"\n",
    "\n",
    "# DFN.map_to_continuum(l=0.1,orl=3)\n",
    "# DFN.upscale(mat_perm=1e-15,mat_por=0.01)\n",
    "\n",
    "# restart_file = \"/home/bjung/github/dfnWorks/examples/octree_example/dfn_restart.in\"\n",
    "# DFN.zone2ex(uge_file='full_mesh.uge',zone_file='all')\n",
    "# #DFN.pflotran(restart=True,restart_file=restart_file)\n",
    "# DFN.pflotran()\n",
    "\n",
    "# DFN.parse_pflotran_vtk_python(grid_vtk_file='')\n",
    "# DFN.pflotran_cleanup()\n",
    "# #DFN.pflotran_cleanup(index_finish=69,filename=restart_file)\n",
    "\n",
    "# main_elapsed = time() - main_time\n",
    "# timing = 'Time Required: %0.2f Minutes'%(main_elapsed/60.0)\n",
    "# f = open(\"time.txt\",'w')\n",
    "# f.write(\"{0}\\n\".format(main_elapsed))\n",
    "# f.close()\n",
    "# print(\"*\"*80)\n",
    "# print(DFN.jobname+' complete')\n",
    "# print(\"Thank you for using dfnWorks\")\n",
    "# print(\"*\"*80)\n",
    "\n",
    "\n"
   ]
  },
  {
   "cell_type": "markdown",
   "metadata": {},
   "source": [
    "## make dfnworks workflow based on above example file\n",
    "### import modules (must run in conda-dfnworks environment)"
   ]
  },
  {
   "cell_type": "code",
   "execution_count": 3,
   "metadata": {},
   "outputs": [],
   "source": [
    "import os, sys\n",
    "from time import time\n",
    "from pydfnworks import * \n",
    "import subprocess"
   ]
  },
  {
   "cell_type": "code",
   "execution_count": 4,
   "metadata": {},
   "outputs": [],
   "source": [
    "define_paths()\n",
    "# ~/.dfnworksrc file\n",
    "# {\n",
    "#         \"dfnworks_PATH\": \"/home/bjung/github/dfnWorks/\",\n",
    "#         \"PETSC_DIR\": \"/home/bjung/github/petsc\",\n",
    "#         \"PETSC_ARCH\": \"arch-linux2-c-opt\",\n",
    "#         \"PFLOTRAN_EXE\": \"/usr/local/bin/pflotran\",\n",
    "#         \"PYTHON_EXE\": \"/usr/bin/python3\",                                                           \n",
    "#         \"LAGRIT_EXE\": \"/usr/local/bin/lagrit\",                                                      \n",
    "#         \"FEHM_EXE\": \"/usr/local/bin/xfehm_v3.3.1\"                                                                                                                                                      \n",
    "# }                                                                                                   \n",
    " "
   ]
  },
  {
   "cell_type": "code",
   "execution_count": 5,
   "metadata": {},
   "outputs": [],
   "source": [
    "main_time = time() # time(): return current time"
   ]
  },
  {
   "cell_type": "code",
   "execution_count": 6,
   "metadata": {},
   "outputs": [],
   "source": [
    "# to put command line option you have to populate sys.argv\n",
    "#sys.argv = ['python3','run_cont.py','-name','/home/bjung/github/dfnWorks/examples/octree/octree_example','-input','octree_run_file.txt','-ncpu', '8']\n",
    "\n",
    "sys.argv = ['name_of_script_argv0','-name', '/home/bjung/github/dfnWorks/hlwd-2021/dfn-test/kbrs01', '-input', 'kbrs01_run.txt', '-ncpu', '32']\n",
    "#print(sys.argv[1])\n",
    "#print(str(sys.argv))"
   ]
  },
  {
   "cell_type": "code",
   "execution_count": 7,
   "metadata": {
    "scrolled": true,
    "tags": []
   },
   "outputs": [
    {
     "name": "stdout",
     "output_type": "stream",
     "text": [
      "Command Line Inputs:\n",
      "Namespace(cell=False, input_file='kbrs01_run.txt', jobname='/home/bjung/github/dfnWorks/hlwd-2021/dfn-test/kbrs01', ncpu=32, path='', prune_file='')\n",
      "\n",
      "-->Creating DFN class\n",
      "\n",
      "\n",
      "===================================================================\n",
      "===================================================================\n",
      "===================================================================\n",
      "||\\    _____         \\               / ______  _______       /  \\ \n",
      "||  \\  |     |\\     | \\             /  |    |  |     | | /  /    \\ \n",
      "||   \\ |___  | \\    |  \\    /\\     /   |    |  |_____| |/   |  |  |\n",
      "||   / |     |   \\  |   \\  /  \\  /     |    |  |   \\   |\\    \\  \\ \n",
      "||  /  |     |     \\|    \\/    \\/      |____|  |    \\  | \\ |  |  |\n",
      "||/ ======================================================= \\    /\n",
      "============================================================  \\/\n",
      "===================================================================\n",
      "\n",
      "\n",
      "\n",
      "~~~~~~~~~~~~~~~~~~~~~~~~~~~~~~~~~~~~~~~~~~~~~~~~~~~~~~~~~~~~~~~~~~~\n",
      "~~~~~~~~~~~~~~~~~~ Program: DFNWorks  V2.2 ~~~~~~~~~~~~~~~~~~~~~~~~\n",
      "~~~~~~~~~~~~~~~~~~~~~~~~~~~~~~~~~~~~~~~~~~~~~~~~~~~~~~~~~~~~~~~~~~~\n",
      "\n",
      "This program was prepared at Los Alamos National Laboratory (LANL),\n",
      "Earth and Environmental Sciences Division, Computational Earth\n",
      "Science Group (EES-16), Subsurface Flow and Transport Team.\n",
      "All rights in the program are reserved by the DOE and LANL.\n",
      "Permission is granted to the public to copy and use this software\n",
      "without charge, provided that this Notice and any statement of\n",
      "authorship are reproduced on all copies. Neither the U.S. Government\n",
      "nor LANS makes any warranty, express or implied, or assumes\n",
      "any liability or responsibility for the use of this software.\n",
      "\n",
      "Contact Information : dfnworks@lanl.gov\n",
      "~~~~~~~~~~~~~~~~~~~~~~~~~~~~~~~~~~~~~~~~~~~~~~~~~~~~~~~~~~~~~~~~~~~\n",
      "~~~~~~~~~~~~~~~~~~~~~~~~~~~~~~~~~~~~~~~~~~~~~~~~~~~~~~~~~~~~~~~~~~~\n",
      "\n",
      "LA-CC-17-027\n",
      "\n",
      "~~~~~~~~~~~~~~~~~~~~~~~~~~~~~~~~~~~~~~~~~~~~~~~~~~~~~~~~~~~~~~~~~~~\n",
      "~~~~~~~~~~~~~~~~~~~~~~~~~~~~~~~~~~~~~~~~~~~~~~~~~~~~~~~~~~~~~~~~~~~\n",
      "\n",
      "(or copyright) 2018 Triad National Security, LLC. All rights reserved.\n",
      " \n",
      "This program was produced under U.S. Government contract 89233218CNA000001\n",
      "for Los Alamos National Laboratory (LANL), which is operated by Triad \n",
      "National Security, LLC for the U.S. Department of Energy/National Nuclear\n",
      "Security Administration.\n",
      "\n",
      "This is free software; you can redistribute it and/or modify it under the\n",
      "terms of the GNU Lesser General Public License as published by the Free\n",
      "Software Foundation; either version 3.0 of the License, or (at your option)\n",
      "any later version. If software is modified to produce derivative works,\n",
      "such modified software should be clearly marked, so as not to confuse it with\n",
      "the version available from LANL.\n",
      "\n",
      "All rights in the program are reserved by Triad National Security, LLC, \n",
      "and the U.S. Department of Energy/National Nuclear Security Administration.\n",
      "The Government is granted for itself and others acting on its behalf a \n",
      "nonexclusive, paid-up, irrevocable worldwide license in this material \n",
      "to reproduce, prepare derivative works, distribute copies to the public,\n",
      "perform publicly and display publicly, and to permit others to do so.\n",
      "\n",
      "The U.S. Government has rights to use, reproduce, and distribute this software.  \n",
      "NEITHER THE GOVERNMENT NOR TRIAD NATIONAL SECURITY, LLC MAKES ANY WARRANTY, \n",
      "EXPRESS OR IMPLIED, OR ASSUMES ANY LIABILITY FOR THE USE OF THIS SOFTWARE.  \n",
      "If software is modified to  produce derivative works, such modified \n",
      "software should be clearly marked, so as not to confuse it with the \n",
      "version available from LANL.\n",
      "\n",
      "Additionally, this program is free software; you can redistribute it and/or \n",
      "modify it under the terms of the GNU General Public License as published by the \n",
      "Free Software Foundation; either version 2 of the License, or (at your option) \n",
      "any later version. Accordingly, this program is distributed in the hope that it \n",
      "will be useful, but WITHOUT ANY WARRANTY; without even the implied warranty of \n",
      "MERCHANTABILITY or FITNESS FOR A PARTICULAR PURPOSE. See the GNU General Public \n",
      "License for more details.\n",
      " \n",
      "Additionally, redistribution and use in source and binary forms, with or \n",
      "without modification, are permitted provided that the following conditions are \n",
      "met:\n",
      "1.       Redistributions of source code must retain the above copyright notice, \n",
      "this list of conditions and the following disclaimer.\n",
      "\n",
      "2.      Redistributions in binary form must reproduce the above copyright \n",
      "notice, this list of conditions and the following disclaimer in the \n",
      "documentation and/or other materials provided with the distribution.\n",
      "\n",
      "3.      Neither the name of Los Alamos National Security, LLC, Los Alamos \n",
      "National Laboratory, LANL, the U.S. Government, nor the names of its \n",
      "contributors may be used to endorse or promote products derived from this \n",
      "software without specific prior written permission.\n",
      " \n",
      "THIS SOFTWARE IS PROVIDED BY LOS ALAMOS NATIONAL SECURITY, LLC AND \n",
      "CONTRIBUTORS \"AS IS\" AND ANY EXPRESS OR IMPLIED WARRANTIES, INCLUDING, BUT NOT \n",
      "LIMITED TO, THE IMPLIED WARRANTIES OF MERCHANTABILITY AND FITNESS FOR A \n",
      "PARTICULAR PURPOSE ARE DISCLAIMED. IN NO EVENT SHALL LOS ALAMOS NATIONAL \n",
      "SECURITY, LLC OR CONTRIBUTORS BE LIABLE FOR ANY DIRECT, INDIRECT, INCIDENTAL, \n",
      "SPECIAL, EXEMPLARY, OR CONSEQUENTIAL DAMAGES (INCLUDING, BUT NOT LIMITED TO, \n",
      "PROCUREMENT OF SUBSTITUTE GOODS OR SERVICES; LOSS OF USE, DATA, OR PROFITS; OR \n",
      "BUSINESS INTERRUPTION) HOWEVER CAUSED AND ON ANY THEORY OF LIABILITY, WHETHER \n",
      "IN CONTRACT, STRICT LIABILITY, OR TORT (INCLUDING NEGLIGENCE OR OTHERWISE) \n",
      "ARISING IN ANY WAY OUT OF THE USE OF THIS SOFTWARE, EVEN IF ADVISED OF THE \n",
      "POSSIBILITY OF SUCH DAMAGE.\n",
      "\n",
      "================================================================================\n",
      "\n",
      "\n",
      "--> Creating DFN class\n",
      "--> Jobname:  /home/bjung/github/dfnWorks/hlwd-2021/dfn-test/kbrs01\n",
      "--> Number of cpus requested:  32\n",
      "--> Reading Input from kbrs01_run.txt\n",
      "--> dfnGen input file:  /home/bjung/github/dfnWorks/hlwd-2021/dfn-test/kbrs01_fracture.dat\n",
      "--> dfnFlow input file:  /home/bjung/github/dfnWorks/hlwd-2021/dfn-test/kbrs01_explicit.in\n",
      "--> dfnTrans input file:  /None/none\n",
      "\n",
      "--> Creating DFN class: Complete\n",
      "================================================================================\n",
      "\n"
     ]
    }
   ],
   "source": [
    "# then call create_dfn()\n",
    "DFN = create_dfn()\n",
    "#options= commandline_options()\n",
    "#print(options)"
   ]
  },
  {
   "cell_type": "code",
   "execution_count": 8,
   "metadata": {
    "tags": []
   },
   "outputs": [
    {
     "name": "stdout",
     "output_type": "stream",
     "text": [
      "\n",
      "Folder  /home/bjung/github/dfnWorks/hlwd-2021/dfn-test/kbrs01  exists\n"
     ]
    },
    {
     "name": "stdin",
     "output_type": "stream",
     "text": [
      "Do you want to delete it? [yes/no] \n",
      " yes\n"
     ]
    },
    {
     "name": "stdout",
     "output_type": "stream",
     "text": [
      "Deleting /home/bjung/github/dfnWorks/hlwd-2021/dfn-test/kbrs01\n",
      "Creating /home/bjung/github/dfnWorks/hlwd-2021/dfn-test/kbrs01\n",
      "Current directory is now: /home/bjung/github/dfnWorks/hlwd-2021/dfn-test/kbrs01\n",
      "\n",
      "Jobname is /home/bjung/github/dfnWorks/hlwd-2021/dfn-test/kbrs01\n"
     ]
    }
   ],
   "source": [
    "DFN.make_working_directory()"
   ]
  },
  {
   "cell_type": "code",
   "execution_count": 9,
   "metadata": {
    "tags": []
   },
   "outputs": [
    {
     "name": "stdout",
     "output_type": "stream",
     "text": [
      "/home/bjung/github/dfnWorks/hlwd-2021/dfn-test/kbrs01_fracture.dat\n",
      "/home/bjung/github/dfnWorks/hlwd-2021/dfn-test/kbrs01/kbrs01_fracture_clean.dat\n",
      "--> Checking input data\n",
      "--> Input Data:  /home/bjung/github/dfnWorks/hlwd-2021/dfn-test/kbrs01_fracture.dat\n",
      "--> Output File:  /home/bjung/github/dfnWorks/hlwd-2021/dfn-test/kbrs01/kbrs01_fracture_clean.dat\n",
      "WARNING --- You have set the number of rectangle families to 0, outside user-defined rectangles, no rectangles will be generated.\n",
      "--> Checking Input Data Complete\n"
     ]
    }
   ],
   "source": [
    "#DFN.check_input()\n",
    "DFN.check_input()"
   ]
  },
  {
   "cell_type": "code",
   "execution_count": 10,
   "metadata": {},
   "outputs": [
    {
     "name": "stdout",
     "output_type": "stream",
     "text": [
      "--> Running DFNGEN\n",
      "Running /home/bjung/github/dfnWorks/DFNGen/DFNGen kbrs01_fracture_clean.dat /home/bjung/github/dfnWorks/hlwd-2021/dfn-test/kbrs01\n",
      "--------------------------------------------------------------------------------\n",
      "Generation Succeeded\n",
      "--------------------------------------------------------------------------------\n"
     ]
    }
   ],
   "source": [
    "#DFN.create_network()\n",
    "DFN.create_network()"
   ]
  },
  {
   "cell_type": "code",
   "execution_count": 11,
   "metadata": {
    "scrolled": true,
    "tags": []
   },
   "outputs": [
    {
     "name": "stdout",
     "output_type": "stream",
     "text": [
      "================================================================================\n",
      "Meshing DFN using LaGriT : Starting\n",
      "================================================================================\n",
      "\n",
      "--> Parsing  params.txt\n",
      "--> Number of Polygons: 10\n",
      "--> H_SCALE 0.100000\n",
      "--> Visual mode is off\n",
      "--> Expected Number of dudded points: 254\n",
      "--> X Domain Size 10.0 m\n",
      "--> Y Domain Size 10.0 m\n",
      "--> Z Domain Size 10.0 m\n",
      "--> Parsing params.txt complete\n",
      "\n",
      "================================================================================\n",
      "\n",
      "--> Running in Visual Mode\n",
      "\n",
      "================================================================================\n",
      "\n",
      "--> Creating parameter*.mlgi files\n",
      "--> Creating parameter*.mlgi files: Complete\n",
      "\n",
      "--> Writing LaGriT Control Files\n",
      "--> Writing LaGriT Control Files: Complete\n",
      "--> Writing LaGriT Control Files: Complete\n",
      "================================================================================\n",
      "\n",
      "================================================================================\n",
      "\n",
      "--> Triangulating 10 fractures using 10 processors\n",
      "\n",
      "\n",
      "--> Fracture 01 out of 10 is starting on worker 1--> Fracture 02 out of 10 is starting on worker 2--> Fracture 03 out of 10 is starting on worker 3--> Fracture 04 out of 10 is starting on worker 4--> Fracture 05 out of 10 is starting on worker 5\n",
      "\n",
      "\n",
      "--> Fracture 10 out of 10 is starting on worker 10\n",
      "\n",
      "\n",
      "--> Fracture 04 out of 10 is complete on worker 4. Time required: 0.03 seconds\n",
      "--> Fracture 05 out of 10 is complete on worker 5. Time required: 0.03 seconds\n",
      "\n",
      "\n",
      "--> Fracture 06 out of 10 is starting on worker 6--> Fracture 03 out of 10 is complete on worker 3. Time required: 0.03 seconds\n",
      "--> Fracture 07 out of 10 is starting on worker 7--> Fracture 09 out of 10 is starting on worker 9\n",
      "\n",
      "\n",
      "\n",
      "--> Fracture 10 out of 10 is complete on worker 10. Time required: 0.03 seconds\n",
      "--> Fracture 01 out of 10 is complete on worker 1. Time required: 0.03 seconds\n",
      "\n",
      "\n",
      "--> Fracture 08 out of 10 is starting on worker 8--> Fracture 02 out of 10 is complete on worker 2. Time required: 0.04 seconds\n",
      "\n",
      "\n",
      "--> Fracture 09 out of 10 is complete on worker 9. Time required: 0.03 seconds\n",
      "\n",
      "--> Fracture 06 out of 10 is complete on worker 6. Time required: 0.03 seconds\n",
      "\n",
      "--> Fracture 08 out of 10 is complete on worker 8. Time required: 0.03 seconds\n",
      "--> Fracture 07 out of 10 is complete on worker 7. Time required: 0.03 seconds\n",
      "\n",
      "\n",
      "--> Triangulating Polygons: Complete\n",
      "--> Total Time to Mesh Network:\n",
      "--> 1.34e-01 seconds\t2.23e-03 minutes\t3.72e-05 hours\n",
      "================================================================================\n",
      "--> Writing : merge_poly.lgi\n",
      "================================================================================\n",
      "--> Merging triangulated fracture meshes using 5 processors.\n",
      "--> Starting merge: 2--> Starting merge: 1--> Starting merge: 3--> Starting merge: 4--> Starting merge: 5\n",
      "\n",
      "\n",
      "\n",
      "\n",
      "--> Merge Number 1 Complete. Time elapsed: 0.02 seconds.--> Merge Number 4 Complete. Time elapsed: 0.02 seconds.--> Merge Number 3 Complete. Time elapsed: 0.02 seconds.\n",
      "\n",
      "\n",
      "--> Merge Number 2 Complete. Time elapsed: 0.03 seconds.\n",
      "--> Merge Number 5 Complete. Time elapsed: 0.03 seconds.\n",
      "\n",
      "--> Initial merging complete. Time elapsed: 0.12 seconds.\n",
      "\n",
      "================================================================================\n",
      "--> Starting Final Merge\n",
      "--> Final merge took 0.05 seconds\n",
      "--> Final merge successful\n",
      "================================================================================\n",
      "--> Output files for visualization are written in : reduced_mesh.inp\n",
      "--> Warning!!! Mesh is not suitable for flow and transport.\n",
      "================================================================================\n",
      "Meshing DFN using LaGriT : Complete\n",
      "================================================================================\n"
     ]
    }
   ],
   "source": [
    "#DFN.mesh_network()\n",
    "DFN.mesh_network(visual_mode=True)"
   ]
  },
  {
   "cell_type": "markdown",
   "metadata": {
    "tags": []
   },
   "source": [
    "## FLOW SIMULATION"
   ]
  },
  {
   "cell_type": "code",
   "execution_count": 12,
   "metadata": {
    "tags": []
   },
   "outputs": [
    {
     "name": "stdout",
     "output_type": "stream",
     "text": [
      "Using flow solver PFLOTRAN\n"
     ]
    }
   ],
   "source": [
    "#set flow simulator as PFLOTRAN\n",
    "DFN.set_flow_solver(\"PFLOTRAN\")\n",
    "#run flow simulation (input: kbrs01_explicit.in)\n",
    "#DFN.dfn_flow()"
   ]
  },
  {
   "cell_type": "markdown",
   "metadata": {},
   "source": [
    "## Generate Continuum mesh"
   ]
  },
  {
   "cell_type": "code",
   "execution_count": 13,
   "metadata": {
    "scrolled": true,
    "tags": []
   },
   "outputs": [
    {
     "name": "stdout",
     "output_type": "stream",
     "text": [
      "================================================================================\n",
      "Meshing Continuum Using LaGrit : Starting\n",
      "================================================================================\n",
      "\n",
      "--> Parsing  params.txt\n",
      "--> Number of Polygons: 10\n",
      "--> H_SCALE 0.100000\n",
      "--> Visual mode is off\n",
      "--> Expected Number of dudded points: 254\n",
      "--> X Domain Size 10.0 m\n",
      "--> Y Domain Size 10.0 m\n",
      "--> Z Domain Size 10.0 m\n",
      "--> Parsing params.txt complete\n",
      "\n",
      "\n",
      "Creating *.lgi files for octree mesh\n",
      "\n",
      "Creating driver_octree_start.lgi file: Complete\n",
      "\n",
      "Creating parameters_octree_dfn.mlgi file: Complete\n",
      "\n",
      "Creating build_octree.mlgi file: Complete\n",
      "\n",
      "Creating intersect_refine.mlgi file: Complete\n",
      "\n",
      "Creating intersect_refine_np1.mlgi file: Complete\n",
      "\n",
      "Creating hex_to_tet.mlgi file: Complete\n",
      "\n",
      "Creating remove_cells.mlgi file: Complete\n",
      "\n",
      "--> Running: /usr/local/bin/lagrit < driver_octree_start.lgi\n",
      "--> Running: /usr/local/bin/lagrit < driver_frac1.lgi\n",
      "--> Running: /usr/local/bin/lagrit < driver_frac2.lgi\n",
      "--> Running: /usr/local/bin/lagrit < driver_frac3.lgi\n",
      "--> Running: /usr/local/bin/lagrit < driver_frac8.lgi\n",
      "\n",
      "--> Running: /usr/local/bin/lagrit < driver_frac9.lgi--> Running: /usr/local/bin/lagrit < driver_frac10.lgi\n",
      "--> Running: /usr/local/bin/lagrit < driver_frac4.lgi\n",
      "--> Running: /usr/local/bin/lagrit < driver_frac5.lgi--> Running: /usr/local/bin/lagrit < driver_frac6.lgi--> Running: /usr/local/bin/lagrit < driver_frac7.lgi\n",
      "\n",
      "\n",
      "read / avs / ex_xyz1_2.inp / mo_vertex\n",
      "    cmo / addatt / mo_vertex / area_tri / vdouble / scalar / nnodes\n",
      "    cmo / readatt / mo_vertex / area_tri / 1 0 0 / ex_area1_2.table\n",
      "\n",
      "    read / avs / frac1.inp / frac\n",
      "    cmo / addatt / frac / area_sum / vdouble / scalar / nnodes\n",
      "\n",
      "    upscale / sum / frac, area_sum / 1 0 0 / mo_vertex, area_tri\n",
      "\n",
      "    cmo / DELATT / frac / itp1\n",
      "    cmo / DELATT / frac / icr1\n",
      "    cmo / DELATT / frac / isn1 \n",
      "    cmo / DELATT / frac / dfield \n",
      "\n",
      "    dump / avs / area_sum1.table / frac / 0 0 2 0\n",
      "        \n",
      "    cmo / delete / mo_vertex\n",
      "    cmo / delete / frac\n",
      "    finish\n",
      "read / avs / ex_xyz2_2.inp / mo_vertex\n",
      "    cmo / addatt / mo_vertex / area_tri / vdouble / scalar / nnodes\n",
      "    cmo / readatt / mo_vertex / area_tri / 1 0 0 / ex_area2_2.table\n",
      "\n",
      "    read / avs / frac2.inp / frac\n",
      "    cmo / addatt / frac / area_sum / vdouble / scalar / nnodes\n",
      "\n",
      "    upscale / sum / frac, area_sum / 1 0 0 / mo_vertex, area_tri\n",
      "\n",
      "    cmo / DELATT / frac / itp1\n",
      "    cmo / DELATT / frac / icr1\n",
      "    cmo / DELATT / frac / isn1 \n",
      "    cmo / DELATT / frac / dfield \n",
      "\n",
      "    dump / avs / area_sum2.table / frac / 0 0 2 0\n",
      "        \n",
      "    cmo / delete / mo_vertex\n",
      "    cmo / delete / frac\n",
      "    finish--> Running: /usr/local/bin/lagrit < driver1.lgi\n",
      "\n",
      "--> Running: /usr/local/bin/lagrit < driver2.lgi\n",
      "read / avs / ex_xyz7_2.inp / mo_vertex\n",
      "    cmo / addatt / mo_vertex / area_tri / vdouble / scalar / nnodes\n",
      "    cmo / readatt / mo_vertex / area_tri / 1 0 0 / ex_area7_2.table\n",
      "\n",
      "    read / avs / frac7.inp / frac\n",
      "    cmo / addatt / frac / area_sum / vdouble / scalar / nnodes\n",
      "\n",
      "    upscale / sum / frac, area_sum / 1 0 0 / mo_vertex, area_tri\n",
      "\n",
      "    cmo / DELATT / frac / itp1\n",
      "    cmo / DELATT / frac / icr1\n",
      "    cmo / DELATT / frac / isn1 \n",
      "    cmo / DELATT / frac / dfield \n",
      "\n",
      "    dump / avs / area_sum7.table / frac / 0 0 2 0\n",
      "        \n",
      "    cmo / delete / mo_vertex\n",
      "    cmo / delete / frac\n",
      "    finish\n",
      "--> Running: /usr/local/bin/lagrit < driver7.lgi\n",
      "read / avs / ex_xyz8_2.inp / mo_vertex\n",
      "    cmo / addatt / mo_vertex / area_tri / vdouble / scalar / nnodes\n",
      "    cmo / readatt / mo_vertex / area_tri / 1 0 0 / ex_area8_2.table\n",
      "\n",
      "    read / avs / frac8.inp / frac\n",
      "    cmo / addatt / frac / area_sum / vdouble / scalar / nnodes\n",
      "\n",
      "    upscale / sum / frac, area_sum / 1 0 0 / mo_vertex, area_tri\n",
      "\n",
      "    cmo / DELATT / frac / itp1\n",
      "    cmo / DELATT / frac / icr1\n",
      "    cmo / DELATT / frac / isn1 \n",
      "    cmo / DELATT / frac / dfield \n",
      "\n",
      "    dump / avs / area_sum8.table / frac / 0 0 2 0\n",
      "        \n",
      "    cmo / delete / mo_vertex\n",
      "    cmo / delete / frac\n",
      "    finish\n",
      "--> Running: /usr/local/bin/lagrit < driver8.lgi\n",
      "read / avs / ex_xyz9_2.inp / mo_vertex\n",
      "    cmo / addatt / mo_vertex / area_tri / vdouble / scalar / nnodes\n",
      "    cmo / readatt / mo_vertex / area_tri / 1 0 0 / ex_area9_2.table\n",
      "\n",
      "    read / avs / frac9.inp / frac\n",
      "    cmo / addatt / frac / area_sum / vdouble / scalar / nnodes\n",
      "\n",
      "    upscale / sum / frac, area_sum / 1 0 0 / mo_vertex, area_tri\n",
      "\n",
      "    cmo / DELATT / frac / itp1\n",
      "    cmo / DELATT / frac / icr1\n",
      "    cmo / DELATT / frac / isn1 \n",
      "    cmo / DELATT / frac / dfield \n",
      "\n",
      "    dump / avs / area_sum9.table / frac / 0 0 2 0\n",
      "        \n",
      "    cmo / delete / mo_vertex\n",
      "    cmo / delete / frac\n",
      "    finish\n",
      "--> Running: /usr/local/bin/lagrit < driver9.lgiread / avs / ex_xyz10_2.inp / mo_vertex\n",
      "    cmo / addatt / mo_vertex / area_tri / vdouble / scalar / nnodes\n",
      "    cmo / readatt / mo_vertex / area_tri / 1 0 0 / ex_area10_2.table\n",
      "\n",
      "    read / avs / frac10.inp / frac\n",
      "    cmo / addatt / frac / area_sum / vdouble / scalar / nnodes\n",
      "\n",
      "    upscale / sum / frac, area_sum / 1 0 0 / mo_vertex, area_tri\n",
      "\n",
      "    cmo / DELATT / frac / itp1\n",
      "    cmo / DELATT / frac / icr1\n",
      "    cmo / DELATT / frac / isn1 \n",
      "    cmo / DELATT / frac / dfield \n",
      "\n",
      "    dump / avs / area_sum10.table / frac / 0 0 2 0\n",
      "        \n",
      "    cmo / delete / mo_vertex\n",
      "    cmo / delete / frac\n",
      "    finish\n",
      "\n",
      "--> Running: /usr/local/bin/lagrit < driver10.lgi\n",
      "read / avs / ex_xyz3_2.inp / mo_vertex\n",
      "    cmo / addatt / mo_vertex / area_tri / vdouble / scalar / nnodes\n",
      "    cmo / readatt / mo_vertex / area_tri / 1 0 0 / ex_area3_2.table\n",
      "\n",
      "    read / avs / frac3.inp / frac\n",
      "    cmo / addatt / frac / area_sum / vdouble / scalar / nnodes\n",
      "\n",
      "    upscale / sum / frac, area_sum / 1 0 0 / mo_vertex, area_tri\n",
      "\n",
      "    cmo / DELATT / frac / itp1\n",
      "    cmo / DELATT / frac / icr1\n",
      "    cmo / DELATT / frac / isn1 \n",
      "    cmo / DELATT / frac / dfield \n",
      "\n",
      "    dump / avs / area_sum3.table / frac / 0 0 2 0\n",
      "        \n",
      "    cmo / delete / mo_vertex\n",
      "    cmo / delete / frac\n",
      "    finishread / avs / ex_xyz4_2.inp / mo_vertex\n",
      "    cmo / addatt / mo_vertex / area_tri / vdouble / scalar / nnodes\n",
      "    cmo / readatt / mo_vertex / area_tri / 1 0 0 / ex_area4_2.table\n",
      "\n",
      "    read / avs / frac4.inp / frac\n",
      "    cmo / addatt / frac / area_sum / vdouble / scalar / nnodes\n",
      "\n",
      "    upscale / sum / frac, area_sum / 1 0 0 / mo_vertex, area_tri\n",
      "\n",
      "    cmo / DELATT / frac / itp1\n",
      "    cmo / DELATT / frac / icr1\n",
      "    cmo / DELATT / frac / isn1 \n",
      "    cmo / DELATT / frac / dfield \n",
      "\n",
      "    dump / avs / area_sum4.table / frac / 0 0 2 0\n",
      "        \n",
      "    cmo / delete / mo_vertex\n",
      "    cmo / delete / frac\n",
      "    finish\n",
      "\n",
      "--> Running: /usr/local/bin/lagrit < driver3.lgi--> Running: /usr/local/bin/lagrit < driver4.lgi\n",
      "\n",
      "read / avs / ex_xyz5_2.inp / mo_vertex\n",
      "    cmo / addatt / mo_vertex / area_tri / vdouble / scalar / nnodes\n",
      "    cmo / readatt / mo_vertex / area_tri / 1 0 0 / ex_area5_2.table\n",
      "\n",
      "    read / avs / frac5.inp / frac\n",
      "    cmo / addatt / frac / area_sum / vdouble / scalar / nnodes\n",
      "\n",
      "    upscale / sum / frac, area_sum / 1 0 0 / mo_vertex, area_tri\n",
      "\n",
      "    cmo / DELATT / frac / itp1\n",
      "    cmo / DELATT / frac / icr1\n",
      "    cmo / DELATT / frac / isn1 \n",
      "    cmo / DELATT / frac / dfield \n",
      "\n",
      "    dump / avs / area_sum5.table / frac / 0 0 2 0\n",
      "        \n",
      "    cmo / delete / mo_vertex\n",
      "    cmo / delete / frac\n",
      "    finishread / avs / ex_xyz6_2.inp / mo_vertex\n",
      "    cmo / addatt / mo_vertex / area_tri / vdouble / scalar / nnodes\n",
      "    cmo / readatt / mo_vertex / area_tri / 1 0 0 / ex_area6_2.table\n",
      "\n",
      "    read / avs / frac6.inp / frac\n",
      "    cmo / addatt / frac / area_sum / vdouble / scalar / nnodes\n",
      "\n",
      "    upscale / sum / frac, area_sum / 1 0 0 / mo_vertex, area_tri\n",
      "\n",
      "    cmo / DELATT / frac / itp1\n",
      "    cmo / DELATT / frac / icr1\n",
      "    cmo / DELATT / frac / isn1 \n",
      "    cmo / DELATT / frac / dfield \n",
      "\n",
      "    dump / avs / area_sum6.table / frac / 0 0 2 0\n",
      "        \n",
      "    cmo / delete / mo_vertex\n",
      "    cmo / delete / frac\n",
      "    finish\n",
      "\n",
      "--> Running: /usr/local/bin/lagrit < driver5.lgi--> Running: /usr/local/bin/lagrit < driver6.lgi\n",
      "\n"
     ]
    }
   ],
   "source": [
    "DFN.inp_file = \"octree_dfn.inp\" # this can't be changed? if changed, parse_pflotran_vtk produces unsearchable input file error.\n",
    "DFN.map_to_continuum(l=1.0,orl=3)"
   ]
  },
  {
   "cell_type": "code",
   "execution_count": 14,
   "metadata": {
    "scrolled": true,
    "tags": []
   },
   "outputs": [
    {
     "name": "stdout",
     "output_type": "stream",
     "text": [
      "================================================================================\n",
      "Generating permeability and porosity for octree mesh: Starting\n",
      "================================================================================\n",
      "================================================================================\n",
      "Generating permeability and porosity for octree mesh: Finished\n",
      "================================================================================\n"
     ]
    }
   ],
   "source": [
    "DFN.upscale(mat_perm=1e-15,mat_por=0.01)"
   ]
  },
  {
   "cell_type": "code",
   "execution_count": 15,
   "metadata": {},
   "outputs": [
    {
     "name": "stdout",
     "output_type": "stream",
     "text": [
      "--> Converting zone files to ex\n",
      "\n",
      "--> Opening uge file\n",
      "--> Finished with uge file\n",
      "\n",
      "--> Opening zone file:  pboundary_front_n.zone\n",
      "--> Calculating number of nodes\n",
      "--> Reading boundary node ids\n",
      "--> Finished with zone file\n",
      "--> Finished calculating boundary connections\n",
      "--> Finished writing ex file \"pboundary_front_n.ex\" corresponding to the zone file: pboundary_front_n.zone\n",
      "\n",
      "--> Opening zone file:  pboundary_back_s.zone\n",
      "--> Calculating number of nodes\n",
      "--> Reading boundary node ids\n",
      "--> Finished with zone file\n",
      "--> Finished calculating boundary connections\n",
      "--> Finished writing ex file \"pboundary_back_s.ex\" corresponding to the zone file: pboundary_back_s.zone\n",
      "\n",
      "--> Opening zone file:  pboundary_left_w.zone\n",
      "--> Calculating number of nodes\n",
      "--> Reading boundary node ids\n",
      "--> Finished with zone file\n",
      "--> Finished calculating boundary connections\n",
      "--> Finished writing ex file \"pboundary_left_w.ex\" corresponding to the zone file: pboundary_left_w.zone\n",
      "\n",
      "--> Opening zone file:  pboundary_right_e.zone\n",
      "--> Calculating number of nodes\n",
      "--> Reading boundary node ids\n",
      "--> Finished with zone file\n",
      "--> Finished calculating boundary connections\n",
      "--> Finished writing ex file \"pboundary_right_e.ex\" corresponding to the zone file: pboundary_right_e.zone\n",
      "\n",
      "--> Opening zone file:  pboundary_top.zone\n",
      "--> Calculating number of nodes\n",
      "--> Reading boundary node ids\n",
      "--> Finished with zone file\n",
      "--> Finished calculating boundary connections\n",
      "--> Finished writing ex file \"pboundary_top.ex\" corresponding to the zone file: pboundary_top.zone\n",
      "\n",
      "--> Opening zone file:  pboundary_bottom.zone\n",
      "--> Calculating number of nodes\n",
      "--> Reading boundary node ids\n",
      "--> Finished with zone file\n",
      "--> Finished calculating boundary connections\n",
      "--> Finished writing ex file \"pboundary_bottom.ex\" corresponding to the zone file: pboundary_bottom.zone\n",
      "\n",
      "--> Converting zone files to ex complete\n"
     ]
    }
   ],
   "source": [
    "DFN.zone2ex(uge_file='full_mesh.uge',zone_file='all')"
   ]
  },
  {
   "cell_type": "code",
   "execution_count": 16,
   "metadata": {
    "tags": []
   },
   "outputs": [
    {
     "name": "stdout",
     "output_type": "stream",
     "text": [
      "================================================================================\n",
      "--> Running PFLOTRAN\n",
      "Running: /home/bjung/github/petsc//arch-linux-c-opt/bin/mpirun -np 32 /usr/local/bin/pflotran -pflotranin kbrs01_explicit.in\n",
      "\n",
      "--> Opening kbrs01_explicit.out to check for convergence\n",
      "--> PFLOTRAN converged\n",
      " STEADY-SOLVE      1 snes_conv_reason:    3\n",
      "\n",
      "\n",
      "================================================================================\n",
      "--> Running PFLOTRAN Complete\n",
      "================================================================================\n",
      "\n",
      "\n"
     ]
    }
   ],
   "source": [
    "DFN.pflotran()"
   ]
  },
  {
   "cell_type": "code",
   "execution_count": 17,
   "metadata": {
    "tags": []
   },
   "outputs": [
    {
     "name": "stdout",
     "output_type": "stream",
     "text": [
      "--> Parsing PFLOTRAN output with Python\n",
      "--> Using Python to convert inp files to VTK files\n",
      "--> Reading inp data\n",
      "--> Writing inp data to vtk format\n",
      "--> Processing file: kbrs01_explicit-000.vtk\n",
      "--> Processing file: kbrs01_explicit-001.vtk\n",
      "--> Parsing PFLOTRAN output complete\n",
      "--> Processing PFLOTRAN output\n",
      "Running >> cat kbrs01_explicit-cellinfo-000-rank*.dat > cellinfo_000.dat\n",
      "Running >> cat kbrs01_explicit-darcyvel-000-rank*.dat > darcyvel_000.dat\n",
      "Running >> cat kbrs01_explicit-cellinfo-001-rank*.dat > cellinfo_001.dat\n",
      "Running >> cat kbrs01_explicit-darcyvel-001-rank*.dat > darcyvel_001.dat\n"
     ]
    }
   ],
   "source": [
    "DFN.parse_pflotran_vtk_python(grid_vtk_file='')\n",
    "DFN.pflotran_cleanup()"
   ]
  },
  {
   "cell_type": "code",
   "execution_count": 18,
   "metadata": {},
   "outputs": [
    {
     "name": "stdout",
     "output_type": "stream",
     "text": [
      "********************************************************************************\n",
      "/home/bjung/github/dfnWorks/hlwd-2021/dfn-test/kbrs01 complete\n",
      "Thank you for using dfnWorks\n",
      "********************************************************************************\n"
     ]
    }
   ],
   "source": [
    "## time information\n",
    "\n",
    "main_elapsed = time() - main_time\n",
    "timing = 'Time Required: %0.2f Minutes'%(main_elapsed/60.0)\n",
    "f = open(\"time.txt\",'w')\n",
    "f.write(\"{0}\\n\".format(main_elapsed))\n",
    "f.close()\n",
    "print(\"*\"*80)\n",
    "print(DFN.jobname+' complete')\n",
    "print(\"Thank you for using dfnWorks\")\n",
    "print(\"*\"*80)\n"
   ]
  },
  {
   "cell_type": "code",
   "execution_count": null,
   "metadata": {},
   "outputs": [],
   "source": []
  },
  {
   "cell_type": "code",
   "execution_count": null,
   "metadata": {},
   "outputs": [],
   "source": []
  }
 ],
 "metadata": {
  "kernelspec": {
   "display_name": "Python 3",
   "language": "python",
   "name": "python3"
  },
  "language_info": {
   "codemirror_mode": {
    "name": "ipython",
    "version": 3
   },
   "file_extension": ".py",
   "mimetype": "text/x-python",
   "name": "python",
   "nbconvert_exporter": "python",
   "pygments_lexer": "ipython3",
   "version": "3.6.13"
  }
 },
 "nbformat": 4,
 "nbformat_minor": 4
}
