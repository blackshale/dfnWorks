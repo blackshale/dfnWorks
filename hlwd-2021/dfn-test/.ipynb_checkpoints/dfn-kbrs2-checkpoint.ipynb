{
 "cells": [
  {
   "cell_type": "markdown",
   "metadata": {},
   "source": [
    "# dfnWorks for reproducing KBRS joint networks"
   ]
  },
  {
   "cell_type": "markdown",
   "metadata": {},
   "source": [
    "### import modules (must run in conda-dfnworks environment)"
   ]
  },
  {
   "cell_type": "code",
   "execution_count": 1,
   "metadata": {},
   "outputs": [],
   "source": [
    "import os, sys\n",
    "from time import time\n",
    "from pydfnworks import * \n",
    "import subprocess\n",
    "\n"
   ]
  },
  {
   "cell_type": "code",
   "execution_count": 2,
   "metadata": {},
   "outputs": [],
   "source": [
    "define_paths()\n",
    "# ~/.dfnworksrc file\n",
    "# {\n",
    "#         \"dfnworks_PATH\": \"/home/bjung/github/dfnWorks/\",\n",
    "#         \"PETSC_DIR\": \"/home/bjung/github/petsc\",\n",
    "#         \"PETSC_ARCH\": \"arch-linux2-c-opt\",\n",
    "#         \"PFLOTRAN_EXE\": \"/usr/local/bin/pflotran\",\n",
    "#         \"PYTHON_EXE\": \"/usr/bin/python3\",                                                           \n",
    "#         \"LAGRIT_EXE\": \"/usr/local/bin/lagrit\",                                                      \n",
    "#         \"FEHM_EXE\": \"/usr/local/bin/xfehm_v3.3.1\"                                                                                                                                                      \n",
    "# }                                                                                                   \n",
    " "
   ]
  },
  {
   "cell_type": "code",
   "execution_count": 3,
   "metadata": {},
   "outputs": [],
   "source": [
    "main_time = time() # time(): return current time"
   ]
  },
  {
   "cell_type": "code",
   "execution_count": 4,
   "metadata": {},
   "outputs": [],
   "source": [
    "# to put command line option you have to populate sys.argv\n",
    "#sys.argv = ['python3','run_cont.py','-name','/home/bjung/github/dfnWorks/examples/octree/octree_example','-input','octree_run_file.txt','-ncpu', '8']\n",
    "\n",
    "sys.argv = ['name_of_script_argv0','-name', '/home/bjung/github/dfnWorks/hlwd-2021/dfn-test/dfn-test', '-input', 'run_file2.txt', '-ncpu', '8']\n",
    "#print(sys.argv[1])\n",
    "#print(str(sys.argv))"
   ]
  },
  {
   "cell_type": "markdown",
   "metadata": {},
   "source": [
    "### Create fractures"
   ]
  },
  {
   "cell_type": "code",
   "execution_count": 5,
   "metadata": {},
   "outputs": [
    {
     "name": "stdout",
     "output_type": "stream",
     "text": [
      "Command Line Inputs:\n",
      "Namespace(cell=False, input_file='run_file2.txt', jobname='/home/bjung/github/dfnWorks/hlwd-2021/dfn-test/dfn-test', ncpu=8, path='', prune_file='')\n",
      "\n",
      "-->Creating DFN class\n",
      "\n",
      "\n",
      "===================================================================\n",
      "===================================================================\n",
      "===================================================================\n",
      "||\\    _____         \\               / ______  _______       /  \\ \n",
      "||  \\  |     |\\     | \\             /  |    |  |     | | /  /    \\ \n",
      "||   \\ |___  | \\    |  \\    /\\     /   |    |  |_____| |/   |  |  |\n",
      "||   / |     |   \\  |   \\  /  \\  /     |    |  |   \\   |\\    \\  \\ \n",
      "||  /  |     |     \\|    \\/    \\/      |____|  |    \\  | \\ |  |  |\n",
      "||/ ======================================================= \\    /\n",
      "============================================================  \\/\n",
      "===================================================================\n",
      "\n",
      "\n",
      "\n",
      "~~~~~~~~~~~~~~~~~~~~~~~~~~~~~~~~~~~~~~~~~~~~~~~~~~~~~~~~~~~~~~~~~~~\n",
      "~~~~~~~~~~~~~~~~~~ Program: DFNWorks  V2.2 ~~~~~~~~~~~~~~~~~~~~~~~~\n",
      "~~~~~~~~~~~~~~~~~~~~~~~~~~~~~~~~~~~~~~~~~~~~~~~~~~~~~~~~~~~~~~~~~~~\n",
      "\n",
      "This program was prepared at Los Alamos National Laboratory (LANL),\n",
      "Earth and Environmental Sciences Division, Computational Earth\n",
      "Science Group (EES-16), Subsurface Flow and Transport Team.\n",
      "All rights in the program are reserved by the DOE and LANL.\n",
      "Permission is granted to the public to copy and use this software\n",
      "without charge, provided that this Notice and any statement of\n",
      "authorship are reproduced on all copies. Neither the U.S. Government\n",
      "nor LANS makes any warranty, express or implied, or assumes\n",
      "any liability or responsibility for the use of this software.\n",
      "\n",
      "Contact Information : dfnworks@lanl.gov\n",
      "~~~~~~~~~~~~~~~~~~~~~~~~~~~~~~~~~~~~~~~~~~~~~~~~~~~~~~~~~~~~~~~~~~~\n",
      "~~~~~~~~~~~~~~~~~~~~~~~~~~~~~~~~~~~~~~~~~~~~~~~~~~~~~~~~~~~~~~~~~~~\n",
      "\n",
      "LA-CC-17-027\n",
      "\n",
      "~~~~~~~~~~~~~~~~~~~~~~~~~~~~~~~~~~~~~~~~~~~~~~~~~~~~~~~~~~~~~~~~~~~\n",
      "~~~~~~~~~~~~~~~~~~~~~~~~~~~~~~~~~~~~~~~~~~~~~~~~~~~~~~~~~~~~~~~~~~~\n",
      "\n",
      "(or copyright) 2018 Triad National Security, LLC. All rights reserved.\n",
      " \n",
      "This program was produced under U.S. Government contract 89233218CNA000001\n",
      "for Los Alamos National Laboratory (LANL), which is operated by Triad \n",
      "National Security, LLC for the U.S. Department of Energy/National Nuclear\n",
      "Security Administration.\n",
      "\n",
      "This is free software; you can redistribute it and/or modify it under the\n",
      "terms of the GNU Lesser General Public License as published by the Free\n",
      "Software Foundation; either version 3.0 of the License, or (at your option)\n",
      "any later version. If software is modified to produce derivative works,\n",
      "such modified software should be clearly marked, so as not to confuse it with\n",
      "the version available from LANL.\n",
      "\n",
      "All rights in the program are reserved by Triad National Security, LLC, \n",
      "and the U.S. Department of Energy/National Nuclear Security Administration.\n",
      "The Government is granted for itself and others acting on its behalf a \n",
      "nonexclusive, paid-up, irrevocable worldwide license in this material \n",
      "to reproduce, prepare derivative works, distribute copies to the public,\n",
      "perform publicly and display publicly, and to permit others to do so.\n",
      "\n",
      "The U.S. Government has rights to use, reproduce, and distribute this software.  \n",
      "NEITHER THE GOVERNMENT NOR TRIAD NATIONAL SECURITY, LLC MAKES ANY WARRANTY, \n",
      "EXPRESS OR IMPLIED, OR ASSUMES ANY LIABILITY FOR THE USE OF THIS SOFTWARE.  \n",
      "If software is modified to  produce derivative works, such modified \n",
      "software should be clearly marked, so as not to confuse it with the \n",
      "version available from LANL.\n",
      "\n",
      "Additionally, this program is free software; you can redistribute it and/or \n",
      "modify it under the terms of the GNU General Public License as published by the \n",
      "Free Software Foundation; either version 2 of the License, or (at your option) \n",
      "any later version. Accordingly, this program is distributed in the hope that it \n",
      "will be useful, but WITHOUT ANY WARRANTY; without even the implied warranty of \n",
      "MERCHANTABILITY or FITNESS FOR A PARTICULAR PURPOSE. See the GNU General Public \n",
      "License for more details.\n",
      " \n",
      "Additionally, redistribution and use in source and binary forms, with or \n",
      "without modification, are permitted provided that the following conditions are \n",
      "met:\n",
      "1.       Redistributions of source code must retain the above copyright notice, \n",
      "this list of conditions and the following disclaimer.\n",
      "\n",
      "2.      Redistributions in binary form must reproduce the above copyright \n",
      "notice, this list of conditions and the following disclaimer in the \n",
      "documentation and/or other materials provided with the distribution.\n",
      "\n",
      "3.      Neither the name of Los Alamos National Security, LLC, Los Alamos \n",
      "National Laboratory, LANL, the U.S. Government, nor the names of its \n",
      "contributors may be used to endorse or promote products derived from this \n",
      "software without specific prior written permission.\n",
      " \n",
      "THIS SOFTWARE IS PROVIDED BY LOS ALAMOS NATIONAL SECURITY, LLC AND \n",
      "CONTRIBUTORS \"AS IS\" AND ANY EXPRESS OR IMPLIED WARRANTIES, INCLUDING, BUT NOT \n",
      "LIMITED TO, THE IMPLIED WARRANTIES OF MERCHANTABILITY AND FITNESS FOR A \n",
      "PARTICULAR PURPOSE ARE DISCLAIMED. IN NO EVENT SHALL LOS ALAMOS NATIONAL \n",
      "SECURITY, LLC OR CONTRIBUTORS BE LIABLE FOR ANY DIRECT, INDIRECT, INCIDENTAL, \n",
      "SPECIAL, EXEMPLARY, OR CONSEQUENTIAL DAMAGES (INCLUDING, BUT NOT LIMITED TO, \n",
      "PROCUREMENT OF SUBSTITUTE GOODS OR SERVICES; LOSS OF USE, DATA, OR PROFITS; OR \n",
      "BUSINESS INTERRUPTION) HOWEVER CAUSED AND ON ANY THEORY OF LIABILITY, WHETHER \n",
      "IN CONTRACT, STRICT LIABILITY, OR TORT (INCLUDING NEGLIGENCE OR OTHERWISE) \n",
      "ARISING IN ANY WAY OUT OF THE USE OF THIS SOFTWARE, EVEN IF ADVISED OF THE \n",
      "POSSIBILITY OF SUCH DAMAGE.\n",
      "\n",
      "================================================================================\n",
      "\n",
      "\n",
      "--> Creating DFN class\n",
      "--> Jobname:  /home/bjung/github/dfnWorks/hlwd-2021/dfn-test/dfn-test\n",
      "--> Number of cpus requested:  8\n",
      "--> Reading Input from run_file2.txt\n",
      "--> dfnGen input file:  /home/bjung/github/dfnWorks/hlwd-2021/dfn-test/fracture2.dat\n",
      "--> dfnFlow input file:  /home/bjung/github/dfnWorks/hlwd-2021/dfn-test/dfn_k.in\n",
      "--> dfnTrans input file:  /None/none\n",
      "\n",
      "--> Creating DFN class: Complete\n",
      "================================================================================\n",
      "\n"
     ]
    }
   ],
   "source": [
    "# then call create_dfn()\n",
    "DFN = create_dfn()\n",
    "#options= commandline_options()\n",
    "#print(options)"
   ]
  },
  {
   "cell_type": "code",
   "execution_count": 6,
   "metadata": {},
   "outputs": [
    {
     "name": "stdout",
     "output_type": "stream",
     "text": [
      "\n",
      "Folder  /home/bjung/github/dfnWorks/hlwd-2021/dfn-test/dfn-test  exists\n"
     ]
    },
    {
     "name": "stdin",
     "output_type": "stream",
     "text": [
      "Do you want to delete it? [yes/no] \n",
      " yes\n"
     ]
    },
    {
     "name": "stdout",
     "output_type": "stream",
     "text": [
      "Deleting /home/bjung/github/dfnWorks/hlwd-2021/dfn-test/dfn-test\n",
      "Creating /home/bjung/github/dfnWorks/hlwd-2021/dfn-test/dfn-test\n",
      "Current directory is now: /home/bjung/github/dfnWorks/hlwd-2021/dfn-test/dfn-test\n",
      "\n",
      "Jobname is /home/bjung/github/dfnWorks/hlwd-2021/dfn-test/dfn-test\n"
     ]
    }
   ],
   "source": [
    "#DFN.make_working_directory()\n",
    "DFN.make_working_directory()"
   ]
  },
  {
   "cell_type": "code",
   "execution_count": 7,
   "metadata": {},
   "outputs": [
    {
     "name": "stdout",
     "output_type": "stream",
     "text": [
      "/home/bjung/github/dfnWorks/hlwd-2021/dfn-test/fracture2.dat\n",
      "/home/bjung/github/dfnWorks/hlwd-2021/dfn-test/dfn-test/fracture2_clean.dat\n",
      "--> Checking input data\n",
      "--> Input Data:  /home/bjung/github/dfnWorks/hlwd-2021/dfn-test/fracture2.dat\n",
      "--> Output File:  /home/bjung/github/dfnWorks/hlwd-2021/dfn-test/dfn-test/fracture2_clean.dat\n",
      "WARNING --- You have set the number of rectangle families to 0, outside user-defined rectangles, no rectangles will be generated.\n",
      "--> Checking Input Data Complete\n"
     ]
    }
   ],
   "source": [
    "#DFN.check_input()\n",
    "DFN.check_input()"
   ]
  },
  {
   "cell_type": "code",
   "execution_count": 8,
   "metadata": {},
   "outputs": [
    {
     "name": "stdout",
     "output_type": "stream",
     "text": [
      "--> Running DFNGEN\n",
      "Running /home/bjung/github/dfnWorks/DFNGen/DFNGen fracture2_clean.dat /home/bjung/github/dfnWorks/hlwd-2021/dfn-test/dfn-test\n",
      "--------------------------------------------------------------------------------\n",
      "Generation Succeeded\n",
      "--------------------------------------------------------------------------------\n"
     ]
    }
   ],
   "source": [
    "#DFN.create_network()\n",
    "DFN.create_network()"
   ]
  },
  {
   "cell_type": "code",
   "execution_count": 9,
   "metadata": {},
   "outputs": [
    {
     "name": "stdout",
     "output_type": "stream",
     "text": [
      "================================================================================\n",
      "Meshing DFN using LaGriT : Starting\n",
      "================================================================================\n",
      "\n",
      "--> Parsing  params.txt\n",
      "--> Number of Polygons: 18\n",
      "--> H_SCALE 0.100000\n",
      "--> Visual mode is off\n",
      "--> Expected Number of dudded points: 417\n",
      "--> X Domain Size 10.0 m\n",
      "--> Y Domain Size 10.0 m\n",
      "--> Z Domain Size 10.0 m\n",
      "--> Parsing params.txt complete\n",
      "\n",
      "================================================================================\n",
      "\n",
      "--> Running in Full Meshing Mode\n",
      "\n",
      "================================================================================\n",
      "\n",
      "--> Creating parameter*.mlgi files\n",
      "--> Creating parameter*.mlgi files: Complete\n",
      "\n",
      "--> Writing Poisson Disc Parameters\n",
      "--> Poisson Sampling Parameters:\n",
      "--> h: 0.1\n",
      "--> coarse_factor: 8\n",
      "--> min_dist: 1\n",
      "--> max_dist: 40\n",
      "--> concurrent_samples: 10\n",
      "--> grid_size: 10\n",
      "\n",
      "--> Lower bound on mesh size: 5.00e-02\n",
      "--> Upper bound on mesh size: 9.00e-01\n",
      "\n",
      "--> Writing LaGriT Control Files\n",
      "--> Writing LaGriT Control Files: Complete\n",
      "================================================================================\n",
      "\n",
      "================================================================================\n",
      "\n",
      "--> Triangulating 18 fractures using 8 processors\n",
      "\n",
      "\n",
      "--> Fracture 01 out of 18 is starting on worker 1--> Fracture 03 out of 18 is starting on worker 3--> Fracture 02 out of 18 is starting on worker 2--> Fracture 08 out of 18 is starting on worker 8\n",
      "\n",
      "\n",
      "\n",
      "--> Starting Poisson sampling for fracture number 1--> Starting Poisson sampling for fracture number 3--> Starting Poisson sampling for fracture number 2\n",
      "--> Starting Poisson sampling for fracture number 8\n",
      "\n",
      "\n",
      "--> Fracture 04 out of 18 is starting on worker 4--> Fracture 06 out of 18 is starting on worker 6--> Fracture 05 out of 18 is starting on worker 5--> Fracture 07 out of 18 is starting on worker 7\n",
      "\n",
      "\n",
      "\n",
      "--> Starting Poisson sampling for fracture number 7--> Starting Poisson sampling for fracture number 6--> Starting Poisson sampling for fracture number 4--> Starting Poisson sampling for fracture number 5\n",
      "\n",
      "\n",
      "\n",
      "--> Poisson sampling for fracture 7 took 0.32 seconds\n",
      "--> Poisson sampling for fracture 1 took 0.38 seconds\n",
      "--> Poisson sampling for fracture 6 took 0.46 seconds\n",
      "--> Fracture 07 out of 18 is complete on worker 7. Time required: 0.47 seconds\n",
      "\n",
      "--> Fracture 09 out of 18 is starting on worker 7\n",
      "--> Starting Poisson sampling for fracture number 9\n",
      "--> Poisson sampling for fracture 8 took 0.52 seconds\n",
      "--> Poisson sampling for fracture 5 took 0.57 seconds\n",
      "--> Fracture 01 out of 18 is complete on worker 1. Time required: 0.59 seconds\n",
      "\n",
      "--> Fracture 10 out of 18 is starting on worker 1\n",
      "--> Starting Poisson sampling for fracture number 10\n",
      "--> Fracture 06 out of 18 is complete on worker 6. Time required: 0.63 seconds\n",
      "\n",
      "--> Fracture 11 out of 18 is starting on worker 6\n",
      "--> Starting Poisson sampling for fracture number 11\n",
      "--> Fracture 08 out of 18 is complete on worker 8. Time required: 0.68 seconds\n",
      "\n",
      "--> Fracture 12 out of 18 is starting on worker 8\n",
      "--> Starting Poisson sampling for fracture number 12\n",
      "--> Poisson sampling for fracture 4 took 0.72 seconds\n",
      "--> Fracture 05 out of 18 is complete on worker 5. Time required: 0.80 seconds\n",
      "\n",
      "--> Fracture 13 out of 18 is starting on worker 5\n",
      "--> Starting Poisson sampling for fracture number 13\n",
      "--> Poisson sampling for fracture 2 took 0.81 seconds\n",
      "--> Poisson sampling for fracture 9 took 0.35 seconds\n",
      "--> Poisson sampling for fracture 11 took 0.21 seconds\n",
      "--> Poisson sampling for fracture 10 took 0.27 seconds\n",
      "--> Fracture 04 out of 18 is complete on worker 4. Time required: 0.89 seconds\n",
      "\n",
      "--> Fracture 14 out of 18 is starting on worker 4\n",
      "--> Starting Poisson sampling for fracture number 14\n",
      "--> Poisson sampling for fracture 12 took 0.26 seconds\n",
      "--> Fracture 11 out of 18 is complete on worker 6. Time required: 0.34 seconds\n",
      "\n",
      "--> Fracture 15 out of 18 is starting on worker 6\n",
      "--> Starting Poisson sampling for fracture number 15\n",
      "--> Fracture 02 out of 18 is complete on worker 2. Time required: 1.02 seconds\n",
      "\n",
      "--> Fracture 16 out of 18 is starting on worker 2\n",
      "--> Starting Poisson sampling for fracture number 16\n",
      "--> Fracture 09 out of 18 is complete on worker 7. Time required: 0.56 seconds\n",
      "\n",
      "--> Fracture 17 out of 18 is starting on worker 7\n",
      "--> Starting Poisson sampling for fracture number 17\n",
      "--> Poisson sampling for fracture 14 took 0.15 seconds\n",
      "--> Fracture 10 out of 18 is complete on worker 1. Time required: 0.48 seconds\n",
      "\n",
      "--> Fracture 18 out of 18 is starting on worker 1\n",
      "--> Starting Poisson sampling for fracture number 18\n",
      "--> Poisson sampling for fracture 3 took 1.12 seconds--> Poisson sampling for fracture 13 took 0.31 seconds\n",
      "\n",
      "--> Fracture 12 out of 18 is complete on worker 8. Time required: 0.45 seconds\n",
      "\n",
      "--> Fracture 14 out of 18 is complete on worker 4. Time required: 0.30 seconds\n",
      "\n",
      "--> Poisson sampling for fracture 15 took 0.25 seconds\n",
      "--> Fracture 13 out of 18 is complete on worker 5. Time required: 0.48 seconds\n",
      "--> Poisson sampling for fracture 16 took 0.26 seconds\n",
      "\n",
      "--> Fracture 03 out of 18 is complete on worker 3. Time required: 1.31 seconds\n",
      "\n",
      "--> Fracture 15 out of 18 is complete on worker 6. Time required: 0.39 seconds\n",
      "\n",
      "--> Fracture 16 out of 18 is complete on worker 2. Time required: 0.42 seconds\n",
      "\n",
      "--> Poisson sampling for fracture 17 took 0.43 seconds\n",
      "--> Fracture 17 out of 18 is complete on worker 7. Time required: 0.59 seconds\n",
      "\n",
      "--> Poisson sampling for fracture 18 took 0.67 seconds\n",
      "--> Fracture 18 out of 18 is complete on worker 1. Time required: 0.85 seconds\n",
      "\n",
      "--> Triangulating Polygons: Complete\n",
      "--> Total Time to Mesh Network:\n",
      "--> 2.06e+00 seconds\t3.43e-02 minutes\t5.72e-04 hours\n",
      "================================================================================\n",
      "--> Writing : merge_poly.lgi\n",
      "\n",
      "--> Dumping output for PFLOTRAN\n",
      "================================================================================\n",
      "--> Merging triangulated fracture meshes using 6 processors.\n",
      "--> Starting merge: 3--> Starting merge: 1--> Starting merge: 2\n",
      "\n",
      "\n",
      "--> Starting merge: 6\n",
      "--> Starting merge: 4\n",
      "--> Starting merge: 5\n",
      "--> Merge Number 1 Complete. Time elapsed: 0.07 seconds.--> Merge Number 6 Complete. Time elapsed: 0.07 seconds.\n",
      "\n",
      "--> Merge Number 5 Complete. Time elapsed: 0.05 seconds.\n",
      "--> Merge Number 3 Complete. Time elapsed: 0.07 seconds.\n",
      "--> Merge Number 2 Complete. Time elapsed: 0.07 seconds.\n",
      "--> Merge Number 4 Complete. Time elapsed: 0.07 seconds.\n",
      "\n",
      "--> Initial merging complete. Time elapsed: 0.13 seconds.\n",
      "\n",
      "================================================================================\n",
      "--> Starting Final Merge\n",
      "--> Final merge took 0.71 seconds\n",
      "--> Final merge successful\n",
      "================================================================================\n",
      "--> Checking that number of dudded points is correct\n",
      "\n",
      "--> From LaGriT: FILTERKD:Dudding duplicate points:           417                                \n",
      "\n",
      "--> From LaGriT: RMPOINT: new point count is        11567                                        \n",
      "\n",
      "--> Expected Number of dudded points: 417\n",
      "--> Actual Number of dudded points: 417\n",
      "--> Difference between expected and actual dudded points: 0\n",
      "--> The correct number of points were removed. Onward!\n",
      "\n",
      "--> Output files for flow calculations are written in : full_mesh.*\n",
      "================================================================================\n",
      "Meshing DFN using LaGriT : Complete\n",
      "================================================================================\n"
     ]
    }
   ],
   "source": [
    "#DFN.mesh_network()\n",
    "DFN.mesh_network()"
   ]
  },
  {
   "cell_type": "markdown",
   "metadata": {},
   "source": [
    "### Flow simulation (dfn_flow)"
   ]
  },
  {
   "cell_type": "code",
   "execution_count": 10,
   "metadata": {},
   "outputs": [
    {
     "name": "stdout",
     "output_type": "stream",
     "text": [
      "Using flow solver PFLOTRAN\n"
     ]
    }
   ],
   "source": [
    "#DFN.set_flow_solver(\"PFLOTRAN\")\n",
    "DFN.set_flow_solver(\"PFLOTRAN\")"
   ]
  },
  {
   "cell_type": "code",
   "execution_count": 15,
   "metadata": {},
   "outputs": [
    {
     "data": {
      "text/plain": [
       "\u001b[0;31mType:\u001b[0m        str\n",
       "\u001b[0;31mString form:\u001b[0m PFLOTRAN\n",
       "\u001b[0;31mLength:\u001b[0m      8\n",
       "\u001b[0;31mDocstring:\u001b[0m  \n",
       "str(object='') -> str\n",
       "str(bytes_or_buffer[, encoding[, errors]]) -> str\n",
       "\n",
       "Create a new string object from the given object. If encoding or\n",
       "errors is specified, then the object must expose a data buffer\n",
       "that will be decoded using the given encoding and error handler.\n",
       "Otherwise, returns the result of object.__str__() (if defined)\n",
       "or repr(object).\n",
       "encoding defaults to sys.getdefaultencoding().\n",
       "errors defaults to 'strict'.\n"
      ]
     },
     "metadata": {},
     "output_type": "display_data"
    }
   ],
   "source": [
    "#DFN.dfn_flow()\n",
    "DFN.dfn_flow()"
   ]
  },
  {
   "cell_type": "markdown",
   "metadata": {},
   "source": [
    "### Continuum mesh (octree refinement)"
   ]
  },
  {
   "cell_type": "code",
   "execution_count": null,
   "metadata": {},
   "outputs": [],
   "source": [
    "#DFN.inp_file = \"octree_dfn.inp\"\n",
    "# DFN.map_to_continuum(l=0.1,orl=3)\n",
    "#DFN.inp_file = \"octree_dfn.inp\" # this can't be changed? if changed, parse_pflotran_vtk produces unsearchable input file error.\n",
    "#DFN.map_to_continuum(l=0.5,orl=3)\n"
   ]
  },
  {
   "cell_type": "code",
   "execution_count": null,
   "metadata": {},
   "outputs": [],
   "source": [
    "# DFN.upscale(mat_perm=1e-15,mat_por=0.01)\n",
    "#DFN.upscale(mat_perm=1e-15,mat_por=0.01)"
   ]
  },
  {
   "cell_type": "code",
   "execution_count": null,
   "metadata": {},
   "outputs": [],
   "source": [
    "# DFN.zone2ex(uge_file='full_mesh.uge',zone_file='all')\n",
    "#DFN.zone2ex(uge_file='full_mesh.uge',zone_file='all')\n"
   ]
  },
  {
   "cell_type": "code",
   "execution_count": null,
   "metadata": {},
   "outputs": [],
   "source": [
    "# DFN.pflotran()\n",
    "#DFN.pflotran()"
   ]
  },
  {
   "cell_type": "code",
   "execution_count": null,
   "metadata": {},
   "outputs": [],
   "source": [
    "# DFN.parse_pflotran_vtk_python(grid_vtk_file='')\n",
    "#DFN.parse_pflotran_vtk_python(grid_vtk_file='')\n"
   ]
  },
  {
   "cell_type": "code",
   "execution_count": null,
   "metadata": {},
   "outputs": [],
   "source": [
    "\n",
    "# DFN.pflotran_cleanup()\n",
    "#DFN.pflotran_cleanup() # it cleans up -cellinfo and darcyvel files."
   ]
  },
  {
   "cell_type": "code",
   "execution_count": null,
   "metadata": {},
   "outputs": [],
   "source": [
    "# time infomation\n",
    "main_elapsed = time() - main_time\n",
    "timing = 'Time Required: %0.2f Minutes'%(main_elapsed/60.0)\n",
    "f = open(\"time.txt\",'w')\n",
    "f.write(\"{0}\\n\".format(main_elapsed))\n",
    "f.close()\n",
    "\n",
    "# ending remarks\n",
    "print(\"*\"*80)\n",
    "print(DFN.jobname+' complete')\n",
    "print(\"Thank you for using dfnWorks\")\n",
    "print(\"*\"*80)\n"
   ]
  },
  {
   "cell_type": "code",
   "execution_count": null,
   "metadata": {},
   "outputs": [],
   "source": [
    "DFN.flow?"
   ]
  },
  {
   "cell_type": "code",
   "execution_count": null,
   "metadata": {},
   "outputs": [],
   "source": []
  },
  {
   "cell_type": "code",
   "execution_count": null,
   "metadata": {},
   "outputs": [],
   "source": []
  }
 ],
 "metadata": {
  "kernelspec": {
   "display_name": "Python 3",
   "language": "python",
   "name": "python3"
  },
  "language_info": {
   "codemirror_mode": {
    "name": "ipython",
    "version": 3
   },
   "file_extension": ".py",
   "mimetype": "text/x-python",
   "name": "python",
   "nbconvert_exporter": "python",
   "pygments_lexer": "ipython3",
   "version": "3.6.13"
  }
 },
 "nbformat": 4,
 "nbformat_minor": 4
}
