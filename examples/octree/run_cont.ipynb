{
 "cells": [
  {
   "cell_type": "code",
   "execution_count": null,
   "metadata": {},
   "outputs": [],
   "source": [
    "\"\"\"\n",
    ".. file:: run_dfnworks.py\n",
    "   :synopsis: run file for dfnworks \n",
    "   :version: 1.0\n",
    "   :maintainer: Jeffrey Hyman, Carl Gable, Nathaniel Knapp\n",
    ".. moduleauthor:: Jeffrey Hyman <jhyman@lanl.gov>\n",
    "\n",
    "\"\"\"\n",
    "\n",
    "import os, sys\n",
    "from time import time\n",
    "from pydfnworks import * \n",
    "import subprocess\n",
    "\n",
    "define_paths()\n",
    "main_time = time()\n",
    "DFN = create_dfn()\n",
    "\n",
    "DFN.make_working_directory()\n",
    "DFN.check_input()\n",
    "DFN.create_network()\n",
    "DFN.mesh_network()\n",
    "\n",
    "DFN.set_flow_solver(\"PFLOTRAN\")\n",
    "DFN.inp_file = \"octree_dfn.inp\"\n",
    "\n",
    "DFN.map_to_continuum(l=0.1,orl=3)\n",
    "DFN.upscale(mat_perm=1e-15,mat_por=0.01)\n",
    "\n",
    "restart_file = \"/home/bjung/github/dfnWorks/examples/octree_example/dfn_restart.in\"\n",
    "DFN.zone2ex(uge_file='full_mesh.uge',zone_file='all')\n",
    "DFN.pflotran(restart=True,restart_file=restart_file)\n",
    "DFN.pflotran()\n",
    "\n",
    "DFN.parse_pflotran_vtk_python(grid_vtk_file='')\n",
    "DFN.pflotran_cleanup()\n",
    "#DFN.pflotran_cleanup(index_finish=69,filename=restart_file)\n",
    "\n",
    "main_elapsed = time() - main_time\n",
    "timing = 'Time Required: %0.2f Minutes'%(main_elapsed/60.0)\n",
    "f = open(\"time.txt\",'w')\n",
    "f.write(\"{0}\\n\".format(main_elapsed))\n",
    "f.close()\n",
    "print(\"*\"*80)\n",
    "print(DFN.jobname+' complete')\n",
    "print(\"Thank you for using dfnWorks\")\n",
    "print(\"*\"*80)\n"
   ]
  },
  {
   "cell_type": "code",
   "execution_count": null,
   "metadata": {},
   "outputs": [],
   "source": []
  },
  {
   "cell_type": "code",
   "execution_count": null,
   "metadata": {},
   "outputs": [],
   "source": []
  }
 ],
 "metadata": {
  "kernelspec": {
   "display_name": "Python 3",
   "language": "python",
   "name": "python3"
  },
  "language_info": {
   "codemirror_mode": {
    "name": "ipython",
    "version": 3
   },
   "file_extension": ".py",
   "mimetype": "text/x-python",
   "name": "python",
   "nbconvert_exporter": "python",
   "pygments_lexer": "ipython3",
   "version": "3.6.13"
  }
 },
 "nbformat": 4,
 "nbformat_minor": 4
}
