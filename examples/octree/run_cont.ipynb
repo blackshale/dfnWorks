{
 "cells": [
  {
   "cell_type": "markdown",
   "metadata": {},
   "source": [
    "# file:: run_dfnworks.py\n",
    "\n",
    "    -synopsis: run file for dfnworks\n",
    "    -version: 1.0\n",
    "    -maintainer: Jeffrey Hyman, Carl Gable, Nathaniel Knapp\n",
    "    -moduleauthor:: Jeffrey Hyman <jhyman@lanl.gov>\n",
    "   "
   ]
  },
  {
   "cell_type": "code",
   "execution_count": 4,
   "metadata": {},
   "outputs": [],
   "source": [
    "import os, sys\n",
    "from time import time\n",
    "from pydfnworks import * \n",
    "import subprocess\n",
    "\n"
   ]
  },
  {
   "cell_type": "code",
   "execution_count": 11,
   "metadata": {},
   "outputs": [
    {
     "name": "stderr",
     "output_type": "stream",
     "text": [
      "usage: ipykernel_launcher.py [-h] [-name JOBNAME] [-ncpu NCPU]\n",
      "                             [-input INPUT_FILE] [-path PATH] [-cell]\n",
      "                             [-prune_file PRUNE_FILE]\n",
      "ipykernel_launcher.py: error: unrecognized arguments: -f /home/bjung/.local/share/jupyter/runtime/kernel-4d297926-d137-47a5-8498-e71f4cad8a41.json\n"
     ]
    },
    {
     "ename": "SystemExit",
     "evalue": "2",
     "output_type": "error",
     "traceback": [
      "An exception has occurred, use %tb to see the full traceback.\n",
      "\u001b[0;31mSystemExit\u001b[0m\u001b[0;31m:\u001b[0m 2\n"
     ]
    }
   ],
   "source": [
    "define_paths()\n",
    "main_time = time()\n",
    "DFN = create_dfn()\n"
   ]
  },
  {
   "cell_type": "code",
   "execution_count": 12,
   "metadata": {},
   "outputs": [
    {
     "data": {
      "text/plain": [
       "\u001b[0;31mSignature:\u001b[0m \u001b[0mdefine_paths\u001b[0m\u001b[0;34m(\u001b[0m\u001b[0;34m)\u001b[0m\u001b[0;34m\u001b[0m\u001b[0;34m\u001b[0m\u001b[0m\n",
       "\u001b[0;31mDocstring:\u001b[0m\n",
       "Defines environmental variables for use in dfnWorks. The user must change these to match their workspace. These can also be defined in ~/.dfnworksrc. \n",
       "\n",
       "Parameters\n",
       "----------\n",
       "    None\n",
       "\n",
       "Returns\n",
       "-------\n",
       "    None\n",
       "    \n",
       "Notes\n",
       "-----\n",
       "    Environmental variables are set to executables\n",
       "\u001b[0;31mFile:\u001b[0m      ~/.local/lib/python3.6/site-packages/pydfnworks-2.4.5-py3.6.egg/pydfnworks/general/paths.py\n",
       "\u001b[0;31mType:\u001b[0m      function\n"
      ]
     },
     "metadata": {},
     "output_type": "display_data"
    }
   ],
   "source": [
    "define_paths?"
   ]
  },
  {
   "cell_type": "code",
   "execution_count": null,
   "metadata": {},
   "outputs": [],
   "source": [
    "\n",
    "DFN.make_working_directory()\n",
    "DFN.check_input()\n",
    "DFN.create_network()\n",
    "DFN.mesh_network()\n",
    "\n",
    "DFN.set_flow_solver(\"PFLOTRAN\")\n",
    "DFN.inp_file = \"octree_dfn.inp\"\n",
    "\n",
    "DFN.map_to_continuum(l=0.1,orl=3)\n",
    "DFN.upscale(mat_perm=1e-15,mat_por=0.01)\n",
    "\n",
    "restart_file = \"/home/bjung/github/dfnWorks/examples/octree_example/dfn_restart.in\"\n",
    "DFN.zone2ex(uge_file='full_mesh.uge',zone_file='all')\n",
    "#DFN.pflotran(restart=True,restart_file=restart_file)\n",
    "DFN.pflotran()\n",
    "\n",
    "DFN.parse_pflotran_vtk_python(grid_vtk_file='')\n",
    "DFN.pflotran_cleanup()\n",
    "#DFN.pflotran_cleanup(index_finish=69,filename=restart_file)\n",
    "\n",
    "main_elapsed = time() - main_time\n",
    "timing = 'Time Required: %0.2f Minutes'%(main_elapsed/60.0)\n",
    "f = open(\"time.txt\",'w')\n",
    "f.write(\"{0}\\n\".format(main_elapsed))\n",
    "f.close()\n",
    "print(\"*\"*80)\n",
    "print(DFN.jobname+' complete')\n",
    "print(\"Thank you for using dfnWorks\")\n",
    "print(\"*\"*80)\n"
   ]
  },
  {
   "cell_type": "code",
   "execution_count": null,
   "metadata": {},
   "outputs": [],
   "source": []
  }
 ],
 "metadata": {
  "kernelspec": {
   "display_name": "Python 3",
   "language": "python",
   "name": "python3"
  },
  "language_info": {
   "codemirror_mode": {
    "name": "ipython",
    "version": 3
   },
   "file_extension": ".py",
   "mimetype": "text/x-python",
   "name": "python",
   "nbconvert_exporter": "python",
   "pygments_lexer": "ipython3",
   "version": "3.6.13"
  }
 },
 "nbformat": 4,
 "nbformat_minor": 4
}
